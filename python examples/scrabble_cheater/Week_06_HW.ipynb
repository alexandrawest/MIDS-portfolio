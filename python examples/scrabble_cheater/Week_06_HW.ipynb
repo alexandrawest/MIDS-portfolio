{
 "cells": [
  {
   "cell_type": "markdown",
   "metadata": {
    "deletable": false,
    "editable": false,
    "nbgrader": {
     "checksum": "081b30facd2596454157a400f6700b15",
     "grade": false,
     "grade_id": "cell-6d8cdb4d261f4009",
     "locked": true,
     "schema_version": 1,
     "solution": false
    }
   },
   "source": [
    "## Week 6 Assignment - W200 Python for Data Science, UC Berkeley MIDS\n",
    "\n",
    "Write code in this jupyter Notebook to solve each of the following problems. Each problem should have its solution in a separate cell. Please upload this **Notebook**, your **scrabble.py** file, the **sowpods.txt** file and your **score_word** module with your solutions to your GitHub repository in your SUBMISSIONS/week_06 folder by 11:59PM PST the night before class."
   ]
  },
  {
   "cell_type": "markdown",
   "metadata": {
    "deletable": false,
    "editable": false,
    "nbgrader": {
     "checksum": "264b353c2fc9950602495e0bea1f3a2d",
     "grade": false,
     "grade_id": "cell-1ce5f6472d951780",
     "locked": true,
     "schema_version": 1,
     "solution": false
    }
   },
   "source": [
    "## Objectives:\n",
    "\n",
    "- Read and understand PEP 8 standards\n",
    "- Use all of your previously gained knowledge together on a single program\n",
    "- Demonstrate how to import a user made module and function into python from another .py file\n",
    "- Demonstrate how to input command line arguments into a .py file"
   ]
  },
  {
   "cell_type": "markdown",
   "metadata": {
    "deletable": false,
    "editable": false,
    "nbgrader": {
     "checksum": "7fe07aafa3af5338f3cd364ef830eaab",
     "grade": false,
     "grade_id": "cell-00008b61981ee041",
     "locked": true,
     "schema_version": 1,
     "solution": false
    }
   },
   "source": [
    "## 6-1. PEP 8 Style Guide (reading and response)\n",
    "\n",
    "Your first task for this week is to write a **250** word reading response to the article below. In addition, please list **3 questions** that you have from the article. Please write your response in a markdown cell, below this cell in the notebook.\n",
    "\n",
    "The writing response is a free response, so you may write about your reactions. An interesting thing that you saw in the article, something that really stuck out to you, etc.\n",
    "\n",
    "**Article**: [The PEP 8 Style Guide](https://www.python.org/dev/peps/pep-0008). This document is really important for Python coders because it describes best practices and customs for how one should write Python code. Please read it all and prepare your questions for class."
   ]
  },
  {
   "cell_type": "markdown",
   "metadata": {
    "deletable": false,
    "nbgrader": {
     "checksum": "ce86bd2c6189d3604f16323fb5e3fa5c",
     "grade": true,
     "grade_id": "cell-eaae902b022d20da",
     "locked": false,
     "points": 20,
     "schema_version": 1,
     "solution": true
    }
   },
   "source": [
    "#### Alex West\n",
    "\n",
    "As a complete beginner to programming in general, \"readability\" was initially a difficult concept. As I've become conversational, however, it makes perfect sense to me that style guides on Python are meticulously maintained. \"Code is read much more often than it is written\" -- this stuck out to me right off the bat, since I hadn't really thought about it except when I do my own homework. But it makes sense, and because of this, code needs to be readable by a diverse group of people. Hence, agreed upon style guidelines. \n",
    "\n",
    "Overall, what stuck out to me was the unbelievable detail. Again, upon reflection, not surprising. Of course there should be rules about 4 spaces vs. tabs, 79 characters per line, etc. It's not unlike writing grammar rules for a foreign language. However, the \"2 spaces after a sentence ending period\" within a comment rule seems excessive and a product of a bygone era. The font is reminiscent of typewriters, so maybe that's where it comes from. But it certainly isn't followed in contemporary written word. In addition, the rule that non-English speakers should write comments in English unless \"120% sure\" it will never be read by anyone outside the language... seemed a bit dramatic and out of character for the authors of a programming language. \n",
    "\n",
    "I learned a lot reading through the style guide. Much of what was there made sense, and it showed me that the human brain has a natural capacity for form and style. In other words, I was internalizing a lot of this style convention without knowing it, simply by coding along with the professors during the async material. Looking at some of the \"No\" examples I automatically shook my head; \"It looks wrong.\" How did I know that? \n",
    "\n",
    "As with most grammar and style, reading and internalizing the conventions makes you a better writer / coder. For example, \"When catching exceptions, mention specific exceptions whenever possible instead of using a bare except: clause.\" This resonated in particular. If you keep you exceptions specific, you'll be writing better code. \n",
    "\n",
    "There were elements to the style guide I couldn't quite understand (the API stuff specifically) but it's nice to know that it's there whenever I need to look something up. \n"
   ]
  },
  {
   "cell_type": "markdown",
   "metadata": {
    "collapsed": true,
    "deletable": false,
    "editable": false,
    "nbgrader": {
     "checksum": "76590211159c6b41e8a57751d9aef042",
     "grade": false,
     "grade_id": "cell-b8aa7fa341f74332",
     "locked": true,
     "schema_version": 1,
     "solution": false
    }
   },
   "source": [
    "## 6-2. Cheating at Scrabble\n",
    "\n",
    "Write a Python script that takes a Scrabble rack as a command-line argument and prints all valid Scrabble words that can be constructed from that rack, along with their Scrabble scores, sorted by score. Valid Scrabble words are provided in the data source below. A Scrabble rack is made up of a maximum of any 7 characters.\n",
    "\n",
    "Below are the requirements for the program:\n",
    "- This needs to be able to be run as a command line tool as shown below (not an input statement!)\n",
    "- Please name the python file: `scrabble.py`\n",
    "- Allow anywhere from 2-7 character tiles to be inputted \n",
    "- Do not worry about the number of the same tiles (e.g. a user is allowed to input ZZZZZQQ)\n",
    "- Output the **total** list of words as (score, word) tuples, sorted by the score as shown below\n",
    "- Output at the end the 'Total number of words:' that can be made with the letters\n",
    "- Please include a function called `score_word` in a separate module. Import this function into your main solution code.\n",
    "- You need to handle input errors from the user and suggest what that error might be caused by and how to fix it (i.e. a helpful error message)\n",
    "- Implement wildcards as either `*` or `?`. That is, let the user specify a wildcard character that can take any value. There can be a total of two wild cards in any user input (one of each character). Only use the `*` and `?` as wildcard characters\n",
    "- Wildcard characters are scored as 0 points, just like in the real Scrabble game\n",
    "- Your program should take less than a minute to run with 2 wildcards in the input - if it is more time than that your algorithm is not optimized very well!\n",
    "- Write docstrings for the functions and puts comments in your code.\n",
    "\n",
    "Extra Credit (+10 points):\n",
    "Allow a user to specify that a certain letter has to be at a certain location. Your program must work without it so this is completely optional. For the extra credit, locations of certain letters must be specified at the command line, it may not be some sort of user prompt.  (Please put a sample of how to run your extra credit & comments in the extra credit cell of this notebook below!)\n",
    "\n",
    "An example invocation and output:\n",
    "```\n",
    "$ python scrabble.py ZAEFIEE\n",
    "(17, feeze)\n",
    "(17, feaze)\n",
    "(16, faze)\n",
    "(15, fiz)\n",
    "(15, fez)\n",
    "(12, zee)\n",
    "(12, zea)\n",
    "(11, za)\n",
    "(6, fie)\n",
    "(6, fee)\n",
    "(6, fae)\n",
    "(5, if)\n",
    "(5, fe)\n",
    "(5, fa)\n",
    "(5, ef)\n",
    "(2, ee)\n",
    "(2, ea)\n",
    "(2, ai)\n",
    "(2, ae)\n",
    "Total number of words: 19\n",
    "```\n",
    "\n",
    "The Data\n",
    "http://courses.cms.caltech.edu/cs11/material/advjava/lab1/sowpods.zip contains all words in the official SOWPODS word list, one word per line. You should download the word file and keep it in your repository so that the program is standalone (instead of accessing it over the web from Python).\n",
    "\n",
    "You can read data from a text file with the following code:\n",
    "\n",
    "```\n",
    "with open(\"sowpods.txt\",\"r\") as infile:\n",
    "    raw_input = infile.readlines()\n",
    "    data = [datum.strip('\\n') for datum in raw_input]\n",
    "```\n",
    "This will show the first 6 words:\n",
    "```\n",
    "print(data[0:6])\n",
    "```\n",
    "\n",
    "Please use the dictionary below containing the letters and their Scrabble values:\n",
    "\n",
    "```\n",
    "scores = {\"a\": 1, \"c\": 3, \"b\": 3, \"e\": 1, \"d\": 2, \"g\": 2,\n",
    "         \"f\": 4, \"i\": 1, \"h\": 4, \"k\": 5, \"j\": 8, \"m\": 3,\n",
    "         \"l\": 1, \"o\": 1, \"n\": 1, \"q\": 10, \"p\": 3, \"s\": 1,\n",
    "         \"r\": 1, \"u\": 1, \"t\": 1, \"w\": 4, \"v\": 4, \"y\": 4,\n",
    "         \"x\": 8, \"z\": 10}\n",
    "```\n",
    "\n",
    "Tips:\n",
    "- We recommend that you work on this and try to break down the problems into steps on your own before writing any code. Once you've scoped generally what you want to do, start writing some code and if you get stuck, take a step back and go back to thinking about the problem rather than trying to fix lots of errors at the code level. You should only use the Python standard library in this assignment, however any tool in the standard library is fair game.\n",
    "- If you keep getting stuck check out: https://openhatch.org/wiki/Scrabble_challenge. This is where we got the idea for this assignment and it provides some helpful tips for guiding you along the way. If that link doesn't work you can use the Google cached version here. However, we would recommend that you try to implement this first before looking at the hints on the website.\n",
    "\n",
    "Good luck!"
   ]
  },
  {
   "cell_type": "markdown",
   "metadata": {
    "deletable": false,
    "editable": false,
    "nbgrader": {
     "checksum": "b4ff9bef3db837bc3b3643e8557624db",
     "grade": false,
     "grade_id": "cell-d5a08eb52a6c9895",
     "locked": true,
     "schema_version": 1,
     "solution": false
    }
   },
   "source": [
    "### The code below will test your command line implementation of the scrabble.py code. We've made some of these tests are available for you to try!"
   ]
  },
  {
   "cell_type": "code",
   "execution_count": null,
   "metadata": {
    "collapsed": true
   },
   "outputs": [],
   "source": [
    "# Code for the testing\n",
    "\n",
    "import subprocess\n",
    "from nose.tools import assert_equal \n",
    "from nose.tools import assert_true\n",
    "from nose.tools import assert_greater\n",
    "from nose.tools import assert_less"
   ]
  },
  {
   "cell_type": "code",
   "execution_count": null,
   "metadata": {
    "collapsed": true,
    "deletable": false,
    "editable": false,
    "nbgrader": {
     "checksum": "147cf4642c13f44370b18d6bf4cd5cf4",
     "grade": true,
     "grade_id": "cell-f55d7e98eba40a10",
     "locked": true,
     "points": 20,
     "schema_version": 1,
     "solution": false
    }
   },
   "outputs": [],
   "source": [
    "\"\"\" Checks that the code runs and checks one user error messages \n",
    "    (this is just one of many user errors you should be checking for!)\n",
    "\"\"\"\n",
    "\n",
    "!python scrabble.py  # no rack error\n",
    "\n"
   ]
  },
  {
   "cell_type": "code",
   "execution_count": null,
   "metadata": {
    "collapsed": true,
    "deletable": false,
    "editable": false,
    "nbgrader": {
     "checksum": "b6129aeb5e884f53d1a895fbaf465c0c",
     "grade": true,
     "grade_id": "cell-1893c284e867334a",
     "locked": true,
     "points": 10,
     "schema_version": 1,
     "solution": false
    }
   },
   "outputs": [],
   "source": [
    "\"\"\" Does not fail due to trivial mistakes and takes correct wildcard characters \"\"\"\n",
    "\n",
    "!python scrabble.py PENguin    # does not fail due to case\n",
    "!python scrabble.py PEN*?in    # takes wildcards"
   ]
  },
  {
   "cell_type": "code",
   "execution_count": null,
   "metadata": {
    "collapsed": true,
    "deletable": false,
    "editable": false,
    "nbgrader": {
     "checksum": "3debb329f00c214f180bd00b6b877552",
     "grade": true,
     "grade_id": "cell-7f1c7fe54a38a19e",
     "locked": true,
     "points": 5,
     "schema_version": 1,
     "solution": false
    }
   },
   "outputs": [],
   "source": [
    "\"\"\" The code should produce a list of all words from the rack with scores \"\"\"\n",
    "\n",
    "#test the code in the command line\n",
    "!python scrabble.py PENGUIN\n"
   ]
  },
  {
   "cell_type": "code",
   "execution_count": null,
   "metadata": {
    "collapsed": true,
    "deletable": false,
    "editable": false,
    "nbgrader": {
     "checksum": "eaa0b44e7b7cba7f41e26e4a7e7cfbe4",
     "grade": true,
     "grade_id": "cell-bb7a872eda80e6a5",
     "locked": true,
     "points": 5,
     "schema_version": 1,
     "solution": false
    }
   },
   "outputs": [],
   "source": [
    "# Autograding test"
   ]
  },
  {
   "cell_type": "code",
   "execution_count": null,
   "metadata": {
    "collapsed": true,
    "deletable": false,
    "editable": false,
    "nbgrader": {
     "checksum": "437790d10e7443190609ae824a9dff63",
     "grade": true,
     "grade_id": "cell-8d2de0735f148301",
     "locked": true,
     "points": 5,
     "schema_version": 1,
     "solution": false
    }
   },
   "outputs": [],
   "source": [
    "\"\"\" The code should produce a list of all words from the rack with scores \"\"\"\n",
    "!python scrabble.py PENGU*?\n"
   ]
  },
  {
   "cell_type": "code",
   "execution_count": null,
   "metadata": {
    "collapsed": true,
    "deletable": false,
    "editable": false,
    "nbgrader": {
     "checksum": "cc033c559d20ff26252eaf6afc3d9035",
     "grade": true,
     "grade_id": "cell-16d4589caf032f51",
     "locked": true,
     "points": 5,
     "schema_version": 1,
     "solution": false
    }
   },
   "outputs": [],
   "source": [
    "# Autograding test"
   ]
  },
  {
   "cell_type": "code",
   "execution_count": 1,
   "metadata": {
    "deletable": false,
    "editable": false,
    "nbgrader": {
     "checksum": "7f049b8140f1adbc46fcee6fbc139d67",
     "grade": true,
     "grade_id": "cell-ceab3d4433043319",
     "locked": true,
     "points": 10,
     "schema_version": 1,
     "solution": false
    }
   },
   "outputs": [
    {
     "ename": "NameError",
     "evalue": "name 'subprocess' is not defined",
     "output_type": "error",
     "traceback": [
      "\u001b[0;31m---------------------------------------------------------------------------\u001b[0m",
      "\u001b[0;31mNameError\u001b[0m                                 Traceback (most recent call last)",
      "\u001b[0;32m<ipython-input-1-e6f723e52cf7>\u001b[0m in \u001b[0;36m<module>\u001b[0;34m()\u001b[0m\n\u001b[1;32m      5\u001b[0m \u001b[0;31m#test the code in the command line\u001b[0m\u001b[0;34m\u001b[0m\u001b[0;34m\u001b[0m\u001b[0m\n\u001b[1;32m      6\u001b[0m \u001b[0mcmd\u001b[0m \u001b[0;34m=\u001b[0m \u001b[0;34m[\u001b[0m \u001b[0;34m'python'\u001b[0m\u001b[0;34m,\u001b[0m \u001b[0;34m'scrabble.py'\u001b[0m\u001b[0;34m,\u001b[0m \u001b[0;34m'PENGU*?'\u001b[0m \u001b[0;34m]\u001b[0m\u001b[0;34m\u001b[0m\u001b[0m\n\u001b[0;32m----> 7\u001b[0;31m \u001b[0mout\u001b[0m\u001b[0;34m=\u001b[0m\u001b[0mbytes\u001b[0m\u001b[0;34m.\u001b[0m\u001b[0mdecode\u001b[0m\u001b[0;34m(\u001b[0m\u001b[0msubprocess\u001b[0m\u001b[0;34m.\u001b[0m\u001b[0mPopen\u001b[0m\u001b[0;34m(\u001b[0m \u001b[0mcmd\u001b[0m\u001b[0;34m,\u001b[0m \u001b[0mstdout\u001b[0m\u001b[0;34m=\u001b[0m\u001b[0msubprocess\u001b[0m\u001b[0;34m.\u001b[0m\u001b[0mPIPE\u001b[0m \u001b[0;34m)\u001b[0m\u001b[0;34m.\u001b[0m\u001b[0mcommunicate\u001b[0m\u001b[0;34m(\u001b[0m\u001b[0;34m)\u001b[0m\u001b[0;34m[\u001b[0m\u001b[0;36m0\u001b[0m\u001b[0;34m]\u001b[0m\u001b[0;34m)\u001b[0m\u001b[0;34m\u001b[0m\u001b[0m\n\u001b[0m\u001b[1;32m      8\u001b[0m \u001b[0;34m\u001b[0m\u001b[0m\n\u001b[1;32m      9\u001b[0m \u001b[0mtot_time\u001b[0m\u001b[0;34m=\u001b[0m\u001b[0mtime\u001b[0m\u001b[0;34m.\u001b[0m\u001b[0mtime\u001b[0m\u001b[0;34m(\u001b[0m\u001b[0;34m)\u001b[0m\u001b[0;34m-\u001b[0m\u001b[0mstart\u001b[0m\u001b[0;34m\u001b[0m\u001b[0m\n",
      "\u001b[0;31mNameError\u001b[0m: name 'subprocess' is not defined"
     ]
    }
   ],
   "source": [
    "\"\"\" The code should run in seconds to a few minutes \"\"\"\n",
    "import time\n",
    "start=time.time()\n",
    "\n",
    "#test the code in the command line\n",
    "cmd = [ 'python', 'scrabble.py', 'PENGU*?' ]\n",
    "out=bytes.decode(subprocess.Popen( cmd, stdout=subprocess.PIPE ).communicate()[0])\n",
    "\n",
    "tot_time=time.time()-start\n",
    "print('Total time was {} seconds'.format(tot_time))\n",
    "assert_less(tot_time, 300)"
   ]
  },
  {
   "cell_type": "code",
   "execution_count": null,
   "metadata": {
    "collapsed": true,
    "deletable": false,
    "nbgrader": {
     "checksum": "2d909aa8b1b4721064ef8319526ec0e3",
     "grade": true,
     "grade_id": "cell-157fccf420d13535",
     "locked": false,
     "points": 10,
     "schema_version": 1,
     "solution": true
    }
   },
   "outputs": [],
   "source": [
    "\"\"\"Implement extra credit call run the code here\n",
    "   If this cell isnt filled out - we'll assume the extra credit wasn't done\n",
    "   Please write a comment on how to use your extra credit syntax also!\n",
    "\"\"\"\n",
    "# YOUR EXTRA CREDIT CODE HERE"
   ]
  },
  {
   "cell_type": "markdown",
   "metadata": {
    "deletable": false,
    "editable": false,
    "nbgrader": {
     "checksum": "5fe2b8a31e32e1ebc9bcbfbd85dffb91",
     "grade": false,
     "grade_id": "cell-23671d4910b2b329",
     "locked": true,
     "schema_version": 1,
     "solution": false
    }
   },
   "source": [
    "## If you have feedback for this homework, please submit it using the link below:\n",
    "\n",
    "http://goo.gl/forms/74yCiQTf6k"
   ]
  }
 ],
 "metadata": {
  "anaconda-cloud": {},
  "kernelspec": {
   "display_name": "Python 3",
   "language": "python",
   "name": "python3"
  },
  "language_info": {
   "codemirror_mode": {
    "name": "ipython",
    "version": 3
   },
   "file_extension": ".py",
   "mimetype": "text/x-python",
   "name": "python",
   "nbconvert_exporter": "python",
   "pygments_lexer": "ipython3",
   "version": "3.7.0"
  }
 },
 "nbformat": 4,
 "nbformat_minor": 1
}

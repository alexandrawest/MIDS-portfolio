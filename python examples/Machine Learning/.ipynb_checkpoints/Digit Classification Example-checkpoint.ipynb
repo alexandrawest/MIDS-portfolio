{
 "cells": [
  {
   "cell_type": "markdown",
   "metadata": {},
   "source": [
    "# Machine Learning Project \n",
    "\n",
    "Alexandra West"
   ]
  },
  {
   "cell_type": "markdown",
   "metadata": {},
   "source": [
    "## Project 1: Digit Classification with KNN and Naive Bayes"
   ]
  },
  {
   "cell_type": "markdown",
   "metadata": {},
   "source": [
    "In this project, you'll implement your own image recognition system for classifying digits. Read through the code and the instructions carefully and add your own code where indicated. Each problem can be addressed succinctly with the included packages -- please don't add any more. Grading will be based on writing clean, commented code, along with a few short answers.\n",
    "\n",
    "As always, you're welcome to work on the project in groups and discuss ideas on the course wall, but <b> please prepare your own write-up (with your own code). </b>\n",
    "\n",
    "If you're interested, check out these links related to digit recognition:\n",
    "\n",
    "Yann Lecun's MNIST benchmarks: http://yann.lecun.com/exdb/mnist/\n",
    "\n",
    "Stanford Streetview research and data: http://ufldl.stanford.edu/housenumbers/"
   ]
  },
  {
   "cell_type": "code",
   "execution_count": 1,
   "metadata": {},
   "outputs": [],
   "source": [
    "# Import a bunch of libraries.\n",
    "import time\n",
    "import numpy as np\n",
    "import matplotlib.pyplot as plt\n",
    "from matplotlib.ticker import MultipleLocator\n",
    "from sklearn.pipeline import Pipeline\n",
    "from sklearn.datasets import fetch_mldata\n",
    "from sklearn.neighbors import KNeighborsClassifier\n",
    "from sklearn.metrics import confusion_matrix\n",
    "from sklearn.linear_model import LinearRegression\n",
    "from sklearn.naive_bayes import BernoulliNB\n",
    "from sklearn.naive_bayes import MultinomialNB\n",
    "from sklearn.naive_bayes import GaussianNB\n",
    "from sklearn.model_selection import GridSearchCV\n",
    "from sklearn.metrics import classification_report\n",
    "from scipy.ndimage.filters import gaussian_filter\n",
    "\n",
    "# This tells matplotlib not to try opening a new window for each plot.\n",
    "%matplotlib inline\n",
    "\n",
    "# Set the randomizer seed so results are the same each time.\n",
    "np.random.seed(0)"
   ]
  },
  {
   "cell_type": "markdown",
   "metadata": {},
   "source": [
    "Load the data. Notice that we are splitting the data into training, development, and test. We also have a small subset of the training data called mini_train_data and mini_train_labels that you should use in all the experiments below, unless otherwise noted."
   ]
  },
  {
   "cell_type": "code",
   "execution_count": 2,
   "metadata": {},
   "outputs": [
    {
     "name": "stdout",
     "output_type": "stream",
     "text": [
      "data shape:  (70000, 784)\n",
      "label shape: (70000,)\n"
     ]
    }
   ],
   "source": [
    "# Load the digit data either from mldata.org, or once downloaded to data_home, from disk. The data is about 53MB so this cell\n",
    "# should take a while the first time your run it.\n",
    "from sklearn.datasets import fetch_openml\n",
    "X, Y = fetch_openml('mnist_784', return_X_y=True , cache=False)\n",
    "Y = Y.astype(int)\n",
    "\n",
    "# Rescale grayscale values to [0,1].\n",
    "X = X / 255.0\n",
    "\n",
    "# Shuffle the input: create a random permutation of the integers between 0 and the number of data points and apply this\n",
    "# permutation to X and Y.\n",
    "# NOTE: Each time you run this cell, you'll re-shuffle the data, resulting in a different ordering.\n",
    "shuffle = np.random.permutation(np.arange(X.shape[0]))\n",
    "X, Y = X[shuffle], Y[shuffle]\n",
    "\n",
    "print ('data shape: ', X.shape)\n",
    "print ('label shape:', Y.shape)\n",
    "\n",
    "# Set some variables to hold test, dev, and training data.\n",
    "test_data, test_labels = X[61000:], Y[61000:]\n",
    "dev_data, dev_labels = X[60000:61000], Y[60000:61000]\n",
    "train_data, train_labels = X[:60000], Y[:60000]\n",
    "mini_train_data, mini_train_labels = X[:1000], Y[:1000]"
   ]
  },
  {
   "cell_type": "markdown",
   "metadata": {},
   "source": [
    "(1) Create a 10x10 grid to visualize 10 examples of each digit. Python hints:\n",
    "\n",
    "- plt.rc() for setting the colormap, for example to black and white\n",
    "- plt.subplot() for creating subplots\n",
    "- plt.imshow() for rendering a matrix\n",
    "- np.array.reshape() for reshaping a 1D feature vector into a 2D matrix (for rendering)"
   ]
  },
  {
   "cell_type": "code",
   "execution_count": 3,
   "metadata": {},
   "outputs": [
    {
     "data": {
      "image/png": "[encoded data removed]",
      "text/plain": [
       "<Figure size 432x288 with 100 Axes>"
      ]
     },
     "metadata": {
      "needs_background": "light"
     },
     "output_type": "display_data"
    }
   ],
   "source": [
    "def P1(num_examples=10):\n",
    "\n",
    "### STUDENT START ###\n",
    "\n",
    "    # set image parameters, color and size\n",
    "    plt.rc('image', cmap = 'Greys')\n",
    "    \n",
    "    # For each unique Y (each digit from 0 to 9)\n",
    "    for i in np.nditer(np.unique(mini_train_labels)):\n",
    "        \n",
    "        # Create an array with the features of \"num_examples\" of digit \"i\"\n",
    "        array = mini_train_data[mini_train_labels == i][:num_examples]\n",
    "        \n",
    "        # For each of the \"num_examples\" \n",
    "        for j in range(num_examples):\n",
    "            \n",
    "            # Create subplots (from 1 to \"i * num_examples + j + 1\" of each digit)\n",
    "            plt.subplot(len(np.unique(mini_train_labels)), num_examples, i * num_examples + j + 1)\n",
    "            \n",
    "            # Hide axis and tickmarks\n",
    "            plt.axis('off')\n",
    "            \n",
    "            # Plot the digit (reshaped)\n",
    "            digit = array[j].reshape(28,28)            \n",
    "            plt.imshow(digit)\n",
    "    \n",
    "### STUDENT END ###\n",
    "\n",
    "P1(10)"
   ]
  },
  {
   "cell_type": "markdown",
   "metadata": {},
   "source": [
    "(2) Evaluate a K-Nearest-Neighbors model with k = [1,3,5,7,9] using the mini training set. Report accuracy on the dev set. For k=1, show precision, recall, and F1 for each label. Which is the most difficult digit?\n",
    "\n",
    "- KNeighborsClassifier() for fitting and predicting\n",
    "- classification_report() for producing precision, recall, F1 results"
   ]
  },
  {
   "cell_type": "code",
   "execution_count": 4,
   "metadata": {},
   "outputs": [
    {
     "name": "stdout",
     "output_type": "stream",
     "text": [
      "Accuracy using k = 1 neighbors:  0.884\n",
      "\n",
      "Precision, recall, and F1 for each digit when k = 1:\n",
      "              precision    recall  f1-score   support\n",
      "\n",
      "        b'0'       0.95      0.95      0.95       106\n",
      "        b'1'       0.89      0.98      0.93       118\n",
      "        b'2'       0.90      0.79      0.84       106\n",
      "        b'3'       0.93      0.87      0.90        97\n",
      "        b'4'       0.91      0.85      0.88        92\n",
      "        b'5'       0.86      0.88      0.87        88\n",
      "        b'6'       0.92      0.92      0.92       102\n",
      "        b'7'       0.85      0.94      0.89       102\n",
      "        b'8'       0.83      0.77      0.80        94\n",
      "        b'9'       0.80      0.86      0.83        95\n",
      "\n",
      "   micro avg       0.88      0.88      0.88      1000\n",
      "   macro avg       0.88      0.88      0.88      1000\n",
      "weighted avg       0.89      0.88      0.88      1000\n",
      "\n",
      "Accuracy using k = 3 neighbors:  0.876\n",
      "Accuracy using k = 5 neighbors:  0.882\n",
      "Accuracy using k = 7 neighbors:  0.877\n",
      "Accuracy using k = 9 neighbors:  0.875\n"
     ]
    }
   ],
   "source": [
    "def P2(k_values):\n",
    "\n",
    "### STUDENT START ###\n",
    "    \n",
    "    for k in k_values:\n",
    "        \n",
    "        # Create a model\n",
    "        KNN_model = KNeighborsClassifier(n_neighbors=k)\n",
    "        \n",
    "        # Fit the model using the mini training set\n",
    "        KNN_model.fit(mini_train_data, mini_train_labels)\n",
    "        \n",
    "        # Predict the model using the dev set\n",
    "        dev_predicted_labels = KNN_model.predict(dev_data)\n",
    "        \n",
    "        # Report accuracy on the dev set\n",
    "        print ('Accuracy using k =', k, 'neighbors: ', KNN_model.score(dev_data, dev_labels))\n",
    "        \n",
    "        # For k=1, show precision, recall, and F1 for each label.\n",
    "        if k == 1:\n",
    "            labels = np.unique(Y).astype(int).astype('S')\n",
    "            print ('\\nPrecision, recall, and F1 for each digit when k = 1:')\n",
    "            print (classification_report(dev_labels, dev_predicted_labels, target_names = labels))\n",
    "    \n",
    "### STUDENT END ###\n",
    "\n",
    "k_values = [1, 3, 5, 7, 9]\n",
    "P2(k_values)"
   ]
  },
  {
   "cell_type": "markdown",
   "metadata": {},
   "source": [
    "**ANSWER**: 8 appears to be the most difficult digit to classify using this model (using k=1 and the dev set). While other numbers have low recall as well (such as 2) or low precision (such as 9) - the F1 score takes both into account and shows that 8 is the most difficult to classify. This makes sense intuitively, as there are many ways that handwriting shows an 8, and arguably an 8 has the most 'on' pixels so could be confused with many different digits."
   ]
  },
  {
   "cell_type": "markdown",
   "metadata": {},
   "source": [
    "(3) Using k=1, report dev set accuracy for the training set sizes below. Also, measure the amount of time needed for prediction with each training size.\n",
    "\n",
    "- time.time() gives a wall clock value you can use for timing operations"
   ]
  },
  {
   "cell_type": "code",
   "execution_count": 5,
   "metadata": {},
   "outputs": [
    {
     "name": "stdout",
     "output_type": "stream",
     "text": [
      "Training size =  100 Accuracy =  0.702 Time elapsed =  0.14836621284484863\n",
      "Training size =  200 Accuracy =  0.791 Time elapsed =  0.2645907402038574\n",
      "Training size =  400 Accuracy =  0.811 Time elapsed =  0.5084228515625\n",
      "Training size =  800 Accuracy =  0.866 Time elapsed =  1.0584771633148193\n",
      "Training size =  1600 Accuracy =  0.905 Time elapsed =  2.1331441402435303\n",
      "Training size =  3200 Accuracy =  0.927 Time elapsed =  4.208132982254028\n",
      "Training size =  6400 Accuracy =  0.939 Time elapsed =  8.490893125534058\n",
      "Training size =  12800 Accuracy =  0.952 Time elapsed =  17.366554975509644\n",
      "Training size =  25000 Accuracy =  0.962 Time elapsed =  37.17223310470581\n"
     ]
    }
   ],
   "source": [
    "def P3(train_sizes, accuracies):\n",
    "\n",
    "### STUDENT START ###\n",
    "    \n",
    "    # Create an empty list for time elapsed\n",
    "    time_elapsed = []\n",
    "    \n",
    "    # Create a k nearest neighbors model where k = 1\n",
    "    NN_model = KNeighborsClassifier(n_neighbors=1)\n",
    "    \n",
    "    # for each training set size\n",
    "    for size in train_sizes:\n",
    "        \n",
    "        # start timing\n",
    "        start = time.time()\n",
    "        \n",
    "        # Fit the model with the set corresponding to the size of training data 'size'\n",
    "        time_train_data, time_train_labels = train_data[:size], train_labels[:size]\n",
    "        NN_model.fit(time_train_data, time_train_labels)\n",
    "        \n",
    "        # Append accuracy to the list created below\n",
    "        accuracies.append(NN_model.score(dev_data, dev_labels))\n",
    "        \n",
    "        # end timing\n",
    "        end = time.time()\n",
    "        \n",
    "        # calculate total time spent fitting and reporting the model and append to time elapsed list\n",
    "        time_elapsed.append(end - start)\n",
    "        \n",
    "    # format the answer using the three lists\n",
    "    for s, a, t in zip(train_sizes, accuracies, time_elapsed):\n",
    "        print ('Training size = ', s, 'Accuracy = ', a, 'Time elapsed = ', t)\n",
    "\n",
    "### STUDENT END ###\n",
    "\n",
    "train_sizes = [100, 200, 400, 800, 1600, 3200, 6400, 12800, 25000]\n",
    "accuracies = []\n",
    "P3(train_sizes, accuracies)"
   ]
  },
  {
   "cell_type": "markdown",
   "metadata": {},
   "source": [
    "(4) Fit a regression model that predicts accuracy from training size. What does it predict for n=60000? What's wrong with using regression here? Can you apply a transformation that makes the predictions more reasonable?\n",
    "\n",
    "- Remember that the sklearn fit() functions take an input matrix X and output vector Y. So each input example in X is a vector, even if it contains only a single value."
   ]
  },
  {
   "cell_type": "code",
   "execution_count": 6,
   "metadata": {},
   "outputs": [
    {
     "name": "stdout",
     "output_type": "stream",
     "text": [
      "Accuracy for n = 60000, linear regression: 1.2446923405015076\n",
      "Accuracy for n = 60000 log transformation: 1.0337099653785085\n",
      "Accuracy for n = 60000 log-log transformation: 1.0115075042575419\n"
     ]
    }
   ],
   "source": [
    "def P4():\n",
    "\n",
    "### STUDENT START ###\n",
    "    # Transpose the features (train_sizes) and labels (accuracies) using np.newaxis, \n",
    "    # increasing the dimension of 1D arrays into column vectors\n",
    "    X = np.array(train_sizes)[:,np.newaxis]\n",
    "    y = np.array(accuracies)[:,np.newaxis]\n",
    "        \n",
    "    # create regression model\n",
    "    regression_model = LinearRegression()\n",
    "    # fit regression model\n",
    "    regression_model.fit(X, y)\n",
    "    \n",
    "    # report accuracy for n = 60000\n",
    "    n = np.array([[60000]])\n",
    "    linear_predict = regression_model.predict(n)\n",
    "    print ('Accuracy for n = 60000, linear regression:', linear_predict[0][0])\n",
    "\n",
    "    # Try a log transformation\n",
    "    LogX = np.log10(X)\n",
    "    regression_model.fit(LogX, y)\n",
    "    log_n = np.log10([[60000]])\n",
    "    log_predict = regression_model.predict(log_n)\n",
    "    print ('Accuracy for n = 60000 log transformation:', log_predict[0][0])\n",
    "    \n",
    "    # Try a log-log transformation\n",
    "    LogLogX = np.log10(np.log10(X))\n",
    "    regression_model.fit(LogLogX, y)\n",
    "    log_log_n = np.log10(np.log10([[60000]]))\n",
    "    log_log_predict = regression_model.predict(log_log_n)\n",
    "    print ('Accuracy for n = 60000 log-log transformation:', log_log_predict[0][0])\n",
    "\n",
    "### STUDENT END ###\n",
    "P4()"
   ]
  },
  {
   "cell_type": "markdown",
   "metadata": {},
   "source": [
    "**ANSWER**: The linear model predicts accuracy greater than 1 - which is nonsensical. A linear model therefore doesn't fit the data well. The logarithm of x is a much better fit, and the log-log transformation is even better. However, the predicted value for n=60000 is still above 1. "
   ]
  },
  {
   "cell_type": "markdown",
   "metadata": {},
   "source": [
    "(5) Fit a 1-NN and output a confusion matrix for the dev data. Use the confusion matrix to identify the most confused pair of digits, and display a few example mistakes.\n",
    "\n",
    "- confusion_matrix() produces a confusion matrix"
   ]
  },
  {
   "cell_type": "code",
   "execution_count": 7,
   "metadata": {},
   "outputs": [
    {
     "name": "stdout",
     "output_type": "stream",
     "text": [
      "Numeric representation of Confusion Matrix: \n",
      " [[101   0   1   0   0   0   1   1   2   0]\n",
      " [  0 116   1   0   0   0   0   0   1   0]\n",
      " [  1   4  84   2   2   0   2   4   6   1]\n",
      " [  0   2   0  84   0   6   0   2   3   0]\n",
      " [  0   0   1   0  78   0   0   2   0  11]\n",
      " [  2   0   0   1   1  77   5   0   2   0]\n",
      " [  1   2   1   0   1   2  94   0   1   0]\n",
      " [  0   1   1   0   0   0   0  96   0   4]\n",
      " [  1   5   4   3   1   3   0   1  72   4]\n",
      " [  0   1   0   0   3   2   0   7   0  82]]\n"
     ]
    },
    {
     "data": {
      "image/png": "[encoded data removed]",
      "text/plain": [
       "<Figure size 288x288 with 1 Axes>"
      ]
     },
     "metadata": {
      "needs_background": "light"
     },
     "output_type": "display_data"
    },
    {
     "name": "stdout",
     "output_type": "stream",
     "text": [
      "most classified correctly, but need to compare error rates instead of absolute number of errors\n"
     ]
    },
    {
     "data": {
      "image/png": "[encoded data removed]",
      "text/plain": [
       "<Figure size 288x288 with 1 Axes>"
      ]
     },
     "metadata": {
      "needs_background": "light"
     },
     "output_type": "display_data"
    },
    {
     "name": "stdout",
     "output_type": "stream",
     "text": [
      "now you can clearly see all the errors the classifier makes\n",
      "\n",
      "Some examples of individual errors:\n",
      "5 cases in which the digit 4 is confused with the digit 9.\n",
      "5 cases in which the digit 9 is confused with the digit 7.\n",
      "5 cases in which the digit 3 is confused with the digit 5.\n",
      "5 cases in which the digit 5 is confused with the digit 6.\n",
      "5 cases in which the digit 2 is confused with the digit 8.\n"
     ]
    },
    {
     "data": {
      "image/png": "[encoded data removed]",
      "text/plain": [
       "<Figure size 432x288 with 25 Axes>"
      ]
     },
     "metadata": {
      "needs_background": "light"
     },
     "output_type": "display_data"
    }
   ],
   "source": [
    "def P5():\n",
    "\n",
    "### STUDENT START ###\n",
    "\n",
    "    # Create a k nearest neighbors model where k = 1\n",
    "    NN_model = KNeighborsClassifier(n_neighbors=1)\n",
    "    \n",
    "    # Fit the model with the mini training set\n",
    "    NN_model.fit(mini_train_data, mini_train_labels)\n",
    "    \n",
    "    # Create a confusion matrix for the dev data\n",
    "    conf_mx = confusion_matrix(dev_labels, NN_model.predict(dev_data))\n",
    "    print (\"Numeric representation of Confusion Matrix: \\n\", conf_mx)\n",
    "    \n",
    "    # the matrix is confusing with just numbers, print image of the matrix\n",
    "    plt.matshow(conf_mx, cmap='gray')\n",
    "    plt.show()\n",
    "    print (\"most classified correctly, but need to compare error rates instead of absolute number of errors\")\n",
    "    \n",
    "    # comparing error rates rather than absolute number of errors\n",
    "    row_sums = conf_mx.sum(axis=1, keepdims=True)\n",
    "    norm_conf_mx = conf_mx / row_sums\n",
    "    \n",
    "    # fill the diagonal with zeroes to keep only the errors and plot the result\n",
    "    np.fill_diagonal(norm_conf_mx, 0)\n",
    "    plt.matshow(norm_conf_mx, cmap='gray')\n",
    "    plt.show()\n",
    "    print (\"now you can clearly see all the errors the classifier makes\")\n",
    "    \n",
    "    # show some examples of individual errors, displaying the top num_examples of confused pairs\n",
    "    print (\"\\nSome examples of individual errors:\")\n",
    "    num_confused_pairs = 5\n",
    "    num_examples = 5\n",
    "    \n",
    "    for i in range(num_confused_pairs):\n",
    "        # Find the position of the top left confused pair\n",
    "        row,col = np.unravel_index(norm_conf_mx.argmax(), norm_conf_mx.shape)\n",
    "        \n",
    "        # the row corresponds to the true digit and column to the (wrongly) predicted digit in the dev data\n",
    "        features_confused_digit = dev_data[(dev_labels == row) & (NN_model.predict(dev_data) == col)]\n",
    "        \n",
    "        # shuffle to show different digits each time\n",
    "        np.random.shuffle(features_confused_digit)\n",
    "        \n",
    "        print ('5 cases in which the digit {1:d} is confused with the digit {2:d}.'.\n",
    "               format(conf_mx.max(), row, col))\n",
    "        \n",
    "        for j in range(num_examples):\n",
    "            # create subplot using the same method as P(1)\n",
    "            plt.subplot(num_confused_pairs, num_examples, i*num_examples + j + 1)\n",
    "                                  \n",
    "            # plot the corresponding digit (reshaped)\n",
    "            confused_digit = features_confused_digit[j].reshape(28,28)\n",
    "            plt.axis('off')\n",
    "            plt.imshow(confused_digit, cmap = 'Greys')\n",
    "            \n",
    "        # delete the image just shown in order to move on to the next pair\n",
    "        norm_conf_mx[row,col] = 0    \n",
    "    \n",
    "### STUDENT END ###\n",
    "\n",
    "P5()"
   ]
  },
  {
   "cell_type": "markdown",
   "metadata": {},
   "source": [
    "(6) A common image processing technique is to smooth an image by blurring. The idea is that the value of a particular pixel is estimated as the weighted combination of the original value and the values around it. Typically, the blurring is Gaussian -- that is, the weight of a pixel's influence is determined by a Gaussian function over the distance to the relevant pixel.\n",
    "\n",
    "Implement a simplified Gaussian blur by just using the 8 neighboring pixels: the smoothed value of a pixel is a weighted combination of the original value and the 8 neighboring values. Try applying your blur filter in 3 ways:\n",
    "- preprocess the training data but not the dev data\n",
    "- preprocess the dev data but not the training data\n",
    "- preprocess both training and dev data\n",
    "\n",
    "Note that there are Guassian blur filters available, for example in scipy.ndimage.filters. You're welcome to experiment with those, but you are likely to get the best results with the simplified version I described above."
   ]
  },
  {
   "cell_type": "code",
   "execution_count": 9,
   "metadata": {},
   "outputs": [
    {
     "name": "stdout",
     "output_type": "stream",
     "text": [
      "Accuracy for unpreprocessed dev data with unpreprocessed train data: 0.884\n",
      "Accuracy for unpreprocessed dev data with preprocessed train data: 0.89\n",
      "Accuracy for preprocessed dev data with unpreprocessed train data: 0.88\n",
      "Accuracy for preprocessed dev data with preprocessed train data: 0.896\n"
     ]
    },
    {
     "data": {
      "image/png": "[encoded data removed]",
      "text/plain": [
       "<Figure size 432x288 with 2 Axes>"
      ]
     },
     "metadata": {
      "needs_background": "light"
     },
     "output_type": "display_data"
    }
   ],
   "source": [
    "def P6():\n",
    "    \n",
    "### STUDENT START ###\n",
    "     \n",
    "    # Create a 1NN model\n",
    "    KNN_model = KNeighborsClassifier(n_neighbors=1)\n",
    "    \n",
    "    # Blur both training and dev data (with sigma = 1) \n",
    "    blurred_train = np.apply_along_axis(gaussian_filter, 1, mini_train_data, 1)\n",
    "    blurred_dev = np.apply_along_axis(gaussian_filter, 1, dev_data, 1)\n",
    "    \n",
    "    # Analyze the 4 possible cases\n",
    "    # (1) Base case: blur neither train nor dev data \n",
    "    KNN_model.fit(mini_train_data, mini_train_labels)\n",
    "    print ('Accuracy for unpreprocessed dev data with unpreprocessed train data:', \n",
    "            KNN_model.score(dev_data, dev_labels))\n",
    "    \n",
    "    # (2) preprocess the training data but not the dev data\n",
    "    KNN_model.fit(blurred_train, mini_train_labels)\n",
    "    print ('Accuracy for unpreprocessed dev data with preprocessed train data:', \n",
    "            KNN_model.score(dev_data, dev_labels))\n",
    "   \n",
    "    # (3) preprocess the dev data but not the training data\n",
    "    KNN_model.fit(mini_train_data, mini_train_labels)\n",
    "    print ('Accuracy for preprocessed dev data with unpreprocessed train data:',\n",
    "            KNN_model.score(blurred_dev, dev_labels))\n",
    "   \n",
    "    # (4) preprocess both training and dev data\n",
    "    KNN_model.fit(blurred_train, mini_train_labels)\n",
    "    print ('Accuracy for preprocessed dev data with preprocessed train data:',\n",
    "            KNN_model.score(blurred_dev, dev_labels))\n",
    "        \n",
    "    # Plot a random digit next to its blurred version\n",
    "    random_image = X[np.random.choice(X.shape[0])]\n",
    "    plt.rc('image', cmap='Greys')\n",
    "    plt.subplot(1, 2, 1)\n",
    "    plt.axis('off')\n",
    "    plt.imshow(random_image.reshape(28,28))\n",
    "    plt.subplot(1, 2, 2)\n",
    "    plt.axis('off')\n",
    "    plt.imshow(gaussian_filter(random_image,1).reshape(28,28))\n",
    "    \n",
    "### STUDENT END ###\n",
    "\n",
    "P6()"
   ]
  },
  {
   "cell_type": "markdown",
   "metadata": {},
   "source": [
    "**ANSWER**:  With unprocessed training and development data as the base case, accuracy improves when just the training data is preprocessed, and is optimized when both the training data and development data is preprocessed to be 'blurry'. It is slightly worse when just the development data are preprocessed. When blurring the data, the examples are easier to generalize, so it makes sense that accuracy is optimized when both training and dev data is preprocessed; this is the opposite of overfitting the data and might correct for some of that error.\n"
   ]
  },
  {
   "cell_type": "markdown",
   "metadata": {},
   "source": [
    "(7) Fit a Naive Bayes classifier and report accuracy on the dev data. Remember that Naive Bayes estimates P(feature|label). While sklearn can handle real-valued features, let's start by mapping the pixel values to either 0 or 1. You can do this as a preprocessing step, or with the binarize argument. With binary-valued features, you can use BernoulliNB. Next try mapping the pixel values to 0, 1, or 2, representing white, grey, or black. This mapping requires MultinomialNB. Does the multi-class version improve the results? Why or why not?"
   ]
  },
  {
   "cell_type": "code",
   "execution_count": 10,
   "metadata": {},
   "outputs": [
    {
     "name": "stdout",
     "output_type": "stream",
     "text": [
      "Accuracy of Binomial NB: 0.819\n",
      "Accuracy of Multinomial NB: 0.815\n"
     ]
    }
   ],
   "source": [
    "def P7():\n",
    "\n",
    "### STUDENT START ###\n",
    "\n",
    "    # Create a binomial Naive Bayes model, using function argument first\n",
    "    BinomialNB_model = BernoulliNB(binarize=0.5)\n",
    "    \n",
    "    # Fit the binomial Naive Bayes model using mini train data\n",
    "    BinomialNB_model.fit(mini_train_data, mini_train_labels)\n",
    "   \n",
    "    # report accuracy using dev data\n",
    "    print ('Accuracy of Binomial NB:', BinomialNB_model.score(dev_data, dev_labels))\n",
    "    \n",
    "    # Create a multinomial Naive Bayes model\n",
    "    MultinomialNB_model = MultinomialNB()\n",
    "    \n",
    "    # Map the pixels to 0, 1, 2 \n",
    "    multiclass_train_data = np.where((mini_train_data > 0.333) & (mini_train_data < 0.667), 1, \n",
    "                                     np.where(mini_train_data > 0.333, 2, 0))\n",
    "    multiclass_dev_data = np.where((dev_data > 0.333) & (dev_data < 0.667), 1, \n",
    "                                   np.where(dev_data > 0.333, 2, 0))\n",
    "    \n",
    "    # fit the multi-class model\n",
    "    MultinomialNB_model.fit(multiclass_train_data, mini_train_labels)\n",
    "    \n",
    "    # report on accuracy of mulitnomial Naive Bayes\n",
    "    print ('Accuracy of Multinomial NB:', MultinomialNB_model.score(multiclass_dev_data, dev_labels))\n",
    "    \n",
    "### STUDENT END ###\n",
    "\n",
    "P7()"
   ]
  },
  {
   "cell_type": "markdown",
   "metadata": {},
   "source": [
    "**ANSWER**: The multi-nomial version does not improve the results. Even changing the thresholds (to 0.25 and 0.75 for example) lowers the accuracy of the mulinomial model. Binarizing the data filters noise, so the image is more precise and defined - and increases the probability of the label given the feature. Adding more categories decreases the accuracy."
   ]
  },
  {
   "cell_type": "markdown",
   "metadata": {},
   "source": [
    "(8) Use GridSearchCV to perform a search over values of alpha (the Laplace smoothing parameter) in a Bernoulli NB model. What is the best value for alpha? What is the accuracy when alpha=0? Is this what you'd expect?\n",
    "\n",
    "- Note that GridSearchCV partitions the training data so the results will be a bit different than if you used the dev data for evaluation."
   ]
  },
  {
   "cell_type": "code",
   "execution_count": 11,
   "metadata": {},
   "outputs": [
    {
     "name": "stderr",
     "output_type": "stream",
     "text": [
      "/Users/alexwest/anaconda3/lib/python3.6/site-packages/sklearn/naive_bayes.py:480: UserWarning: alpha too small will result in numeric errors, setting alpha = 1.0e-10\n",
      "  'setting alpha = %.1e' % _ALPHA_MIN)\n",
      "/Users/alexwest/anaconda3/lib/python3.6/site-packages/sklearn/naive_bayes.py:480: UserWarning: alpha too small will result in numeric errors, setting alpha = 1.0e-10\n",
      "  'setting alpha = %.1e' % _ALPHA_MIN)\n"
     ]
    },
    {
     "name": "stdout",
     "output_type": "stream",
     "text": [
      "top score: 0.822 \n",
      "\n",
      "For Alpha = 0.0 Test Score = 0.79 Rank = 8\n",
      "For Alpha = 0.0001 Test Score = 0.813 Rank = 6\n",
      "For Alpha = 0.001 Test Score = 0.814 Rank = 5\n",
      "For Alpha = 0.01 Test Score = 0.818 Rank = 2\n",
      "For Alpha = 0.1 Test Score = 0.822 Rank = 1\n",
      "For Alpha = 0.5 Test Score = 0.817 Rank = 3\n",
      "For Alpha = 1.0 Test Score = 0.815 Rank = 4\n",
      "For Alpha = 2.0 Test Score = 0.803 Rank = 7\n",
      "For Alpha = 10.0 Test Score = 0.76 Rank = 9\n"
     ]
    }
   ],
   "source": [
    "def P8(alphas):\n",
    "\n",
    "### STUDENT START ###\n",
    "    \n",
    "    # set model and parameters for GridSearchCV \n",
    "    mod = BernoulliNB()\n",
    "    para = [{'alpha': alphas['alpha']}]\n",
    "    \n",
    "    # fit model using GridSearch\n",
    "    g_s = GridSearchCV(mod, para, cv=2)\n",
    "    g_s.fit(mini_train_data, mini_train_labels)\n",
    "    print ('top score:', g_s.score(dev_data, dev_labels), '\\n')\n",
    "\n",
    "    results = g_s.cv_results_\n",
    "    \n",
    "    for i in range(len(alphas['alpha'])):\n",
    "        print ('For Alpha =', results['params'][i]['alpha'], 'Test Score =', results['mean_test_score'][i], \n",
    "               'Rank =', results['rank_test_score'][i])\n",
    "            \n",
    "    return g_s\n",
    "\n",
    "### STUDENT END ###\n",
    "\n",
    "alphas = {'alpha': [0.0, 0.0001, 0.001, 0.01, 0.1, 0.5, 1.0, 2.0, 10.0]}\n",
    "nb = P8(alphas)"
   ]
  },
  {
   "cell_type": "code",
   "execution_count": 12,
   "metadata": {},
   "outputs": [
    {
     "name": "stdout",
     "output_type": "stream",
     "text": [
      "{'alpha': 0.1}\n"
     ]
    }
   ],
   "source": [
    "print (nb.best_params_)"
   ]
  },
  {
   "cell_type": "markdown",
   "metadata": {},
   "source": [
    "**ANSWER**: The best alpha value is 0.1. From about alpha = 0.0001, accuracy follows a parabola that reaches its max (0.82) when alpha = 0.1. Alpha = 0 means there is no LaPlace smoothing happening at all - therefore there are a lot of 0s still there in the data, we are multiplying by 0, and the math doesn't make sense. The warning is telling us that 0 would not work, and would result in this very issue."
   ]
  },
  {
   "cell_type": "markdown",
   "metadata": {},
   "source": [
    "(9) Try training a model using GuassianNB, which is intended for real-valued features, and evaluate on the dev data. You'll notice that it doesn't work so well. Try to diagnose the problem. You should be able to find a simple fix that returns the accuracy to around the same rate as BernoulliNB. Explain your solution.\n",
    "\n",
    "Hint: examine the parameters estimated by the fit() method, theta\\_ and sigma\\_."
   ]
  },
  {
   "cell_type": "code",
   "execution_count": 13,
   "metadata": {},
   "outputs": [
    {
     "name": "stdout",
     "output_type": "stream",
     "text": [
      "Accuracy of regular Gaussian NB: 0.593\n",
      "Best sigma: 0.2\n",
      "Accuracy of GaussianNB with noise added to data using best sigma: 0.833\n"
     ]
    }
   ],
   "source": [
    "def P9():\n",
    "\n",
    "### STUDENT START ###\n",
    "\n",
    "    # Create a Gaussian NB model\n",
    "    GNB_model = GaussianNB()\n",
    "    \n",
    "    # Fit the model with the mini_train_data\n",
    "    GNB_model.fit(mini_train_data, mini_train_labels)\n",
    "    \n",
    "    # Report accuracy for the dev set\n",
    "    print ('Accuracy of regular Gaussian NB:', GNB_model.score(dev_data,dev_labels))\n",
    "\n",
    "    # Which value of sigma maximizes accuracy? \n",
    "    # Define range of sigmas and an array of accuracies in the same shape - choosing something reasonable\n",
    "    # because data is a bunch of 0s and 1s\n",
    "    sigmas = np.arange(0.05, 1.05, 0.05)\n",
    "    accuracies = np.zeros(sigmas.shape)\n",
    "    \n",
    "    # For each sigma value, create a new train_data set and new dev_data set that contains random noise\n",
    "    for i in range(sigmas.shape[0]):\n",
    "        new_train_data = mini_train_data + np.random.normal(0, sigmas[i], mini_train_data.shape)\n",
    "        new_dev_data = dev_data + np.random.normal(0, sigmas[i], mini_train_data.shape)\n",
    "        \n",
    "        # fit the GNB model to the train set\n",
    "        GNB_model.fit(new_train_data, mini_train_labels)\n",
    "        \n",
    "        # score the accuracy with that particular value of sigma\n",
    "        accuracies[i] = GNB_model.score(new_dev_data, dev_labels)\n",
    "        \n",
    "    # keep value of sigma for which the accuracy is highest\n",
    "    sigma = sigmas[accuracies.argmax()]\n",
    "    \n",
    "    print ('Best sigma:', sigma)\n",
    "    \n",
    "    # Use the best value of sigma to create new training and dev data sets with random noise\n",
    "    new_train_data = mini_train_data + np.random.normal(0, sigma, mini_train_data.shape)\n",
    "    new_dev_data = dev_data + np.random.normal(0, sigma, mini_train_data.shape)\n",
    "    \n",
    "    # then fit the GNB model with the noisy data and score it\n",
    "    GNB_model.fit(new_train_data, mini_train_labels)\n",
    "    \n",
    "    print ('Accuracy of GaussianNB with noise added to data using best sigma:', \n",
    "           GNB_model.score(new_dev_data, dev_labels))\n",
    "    \n",
    "    return GNB_model\n",
    "\n",
    "### STUDENT END ###\n",
    "\n",
    "gnb = P9()"
   ]
  },
  {
   "cell_type": "markdown",
   "metadata": {},
   "source": [
    "**ANSWER**: A Guassian Naive Bayes is a special type of machine learning algorithm because it expects a normal distribution of features. In this case it won't work with the mini training data set, because we have already binarized the data to be between 0 and 1 (mostly 0s, as the majority of the images are empty). This is why the Binomial Naive Bayes model worked better. By adding Guassian noise (mean = 0, and std deviation that maximizes accuracy on the dev set) to both mini_train_data and dev_data, the distribution is closer to normal, and the model has an accuracy closer to Binomial Naive Bayes."
   ]
  },
  {
   "cell_type": "markdown",
   "metadata": {},
   "source": [
    "(10) Because Naive Bayes is a generative model, we can use the trained model to generate digits. Train a BernoulliNB model and then generate a 10x20 grid with 20 examples of each digit. Because you're using a Bernoulli model, each pixel output will be either 0 or 1. How do the generated digits compare to the training digits?\n",
    "\n",
    "- You can use np.random.rand() to generate random numbers from a uniform distribution\n",
    "- The estimated probability of each pixel is stored in feature\\_log\\_prob\\_. You'll need to use np.exp() to convert a log probability back to a probability."
   ]
  },
  {
   "cell_type": "code",
   "execution_count": 14,
   "metadata": {},
   "outputs": [
    {
     "data": {
      "image/png": "[encoded data removed]",
      "text/plain": [
       "<Figure size 720x360 with 200 Axes>"
      ]
     },
     "metadata": {
      "needs_background": "light"
     },
     "output_type": "display_data"
    }
   ],
   "source": [
    "def P10(num_examples):\n",
    "\n",
    "### STUDENT START ###\n",
    "\n",
    "    # create a Bernoulli Naive Bayes model\n",
    "    model = BernoulliNB()\n",
    "    \n",
    "    # fit the model using mini_train data\n",
    "    model.fit(mini_train_data, mini_train_labels)\n",
    "    \n",
    "    # estimated probability of each pixel - converted from log probability back to regular probability\n",
    "    probs = np.exp(model.feature_log_prob_)\n",
    "    \n",
    "    # define figure size\n",
    "    plt.figure(figsize=(10, 5))\n",
    "    \n",
    "    # For each digit (from 0 to 9 - the unique values of mini_train_labels)\n",
    "    for i in range(len(np.unique(mini_train_labels))):\n",
    "        \n",
    "        # create an array with the features of \"num_examples\" of digit \"i\"\n",
    "        # for each of the \"num_examples\" \n",
    "        \n",
    "        for j in range(num_examples):\n",
    "            # Generate an example digit using random numbers \n",
    "            example = np.where(probs[i, :] > np.random.rand(mini_train_data.shape[1]), 1, 0)\n",
    "            \n",
    "            # Create subplot from 1 to \"num_digits\"*\"num_examples\" of each digit\n",
    "            plt.subplot(len(np.unique(mini_train_labels)), num_examples, i * num_examples + j + 1)\n",
    "            \n",
    "            # Plot the corresponding digit\n",
    "            digit = example.reshape((28,28))\n",
    "            plt.axis('off')\n",
    "            plt.imshow(digit, cmap = 'Greys')\n",
    "\n",
    "### STUDENT END ###\n",
    "\n",
    "P10(20)"
   ]
  },
  {
   "cell_type": "markdown",
   "metadata": {},
   "source": [
    "**ANSWER**: The generated digits are fuzzier than the training digits, but it is still possible to distinguish each digit. In addition, they have less variability from example to example. This is using the probabilities to place dots in places where the probability is greater than 0. It makes the digits fuzzy but recognizable."
   ]
  },
  {
   "cell_type": "markdown",
   "metadata": {},
   "source": [
    "(11) Remember that a strongly calibrated classifier is rougly 90% accurate when the posterior probability of the predicted class is 0.9. A weakly calibrated classifier is more accurate when the posterior is 90% than when it is 80%. A poorly calibrated classifier has no positive correlation between posterior and accuracy.\n",
    "\n",
    "Train a BernoulliNB model with a reasonable alpha value. For each posterior bucket (think of a bin in a histogram), you want to estimate the classifier's accuracy. So for each prediction, find the bucket the maximum posterior belongs to and update the \"correct\" and \"total\" counters.\n",
    "\n",
    "How would you characterize the calibration for the Naive Bayes model?"
   ]
  },
  {
   "cell_type": "code",
   "execution_count": 15,
   "metadata": {},
   "outputs": [
    {
     "name": "stdout",
     "output_type": "stream",
     "text": [
      "p(pred) <= 0.5000000000000    total =   0    accuracy = 0.000\n",
      "p(pred) <= 0.9000000000000    total =  32    accuracy = 0.344\n",
      "p(pred) <= 0.9990000000000    total =  71    accuracy = 0.451\n",
      "p(pred) <= 0.9999900000000    total =  65    accuracy = 0.508\n",
      "p(pred) <= 0.9999999000000    total =  49    accuracy = 0.592\n",
      "p(pred) <= 0.9999999990000    total =  55    accuracy = 0.764\n",
      "p(pred) <= 0.9999999999900    total =  35    accuracy = 0.800\n",
      "p(pred) <= 0.9999999999999    total =  48    accuracy = 0.812\n",
      "p(pred) <= 1.0000000000000    total = 645    accuracy = 0.943\n"
     ]
    }
   ],
   "source": [
    "def P11(buckets, correct, total):\n",
    "    \n",
    "### STUDENT START ###\n",
    "\n",
    "    # Create a Binomial NB model using the best value of alpha defined by best_params_\n",
    "    BNB_model = BernoulliNB(alpha = nb.best_params_['alpha'])\n",
    "    \n",
    "    # Fit it with the mini training set\n",
    "    BNB_model.fit(mini_train_data, mini_train_labels)\n",
    "    \n",
    "    # Predict labels and probabilities of dev set\n",
    "    dev_predict_labels = BNB_model.predict(dev_data)\n",
    "    dev_predict_probs = BNB_model.predict_proba(dev_data)\n",
    "    \n",
    "    # Define an auxialiary variable: buckets_copy \n",
    "    buckets_copy = buckets.copy()\n",
    "    \n",
    "    # insert into buckets_copy so that list includes first prior value (0) \n",
    "    buckets_copy.insert(0, 0.)\n",
    "    \n",
    "    # For each bucket (can change based on input)\n",
    "    for i in range(1, len(buckets) + 1):\n",
    "        \n",
    "        # Create array of 0s the shape of the dev_predict_labels\n",
    "        # from 1 to len(buckets), use buckets_copy to compare probabilities\n",
    "        label_in_bucket = np.zeros(dev_predict_labels.shape[0])\n",
    "        \n",
    "        # Start counting\n",
    "        count_correct = 0\n",
    "        count_total = 0\n",
    "        \n",
    "        # For every prediction - each item in dev set to 1000\n",
    "        for j in range(dev_predict_probs.shape[0]):\n",
    "            # Find the maximum posterior probability (whether it corresponds to the correct label or not)\n",
    "            prob = dev_predict_probs[j, dev_predict_probs[j].argmax()]\n",
    "            \n",
    "            # Is that maximum posterior probability inside the current bucket? \n",
    "            label_in_bucket[j] = np.where((prob <= buckets_copy[i]) & (prob > buckets_copy[i-1]), 1, 0)\n",
    "            \n",
    "            # If the maximum posterior probability is inside the current bucket \n",
    "            if label_in_bucket[j] == 1:\n",
    "                # increase count of total\n",
    "                count_total +=1\n",
    "                \n",
    "                # If prediction was correct\n",
    "                if dev_predict_labels[j] == dev_labels[j]:\n",
    "                    # increase count of correct\n",
    "                    count_correct += 1\n",
    "                    \n",
    "        # Count of total and correct cases - make float to allow for non-integer division\n",
    "        correct[i-1] = float(count_correct)\n",
    "        total[i-1] = float(count_total)\n",
    "                \n",
    "### STUDENT END ###\n",
    "\n",
    "buckets = [0.5, 0.9, 0.999, 0.99999, 0.9999999, 0.999999999, 0.99999999999, 0.9999999999999, 1.0]\n",
    "correct = [0 for i in buckets]\n",
    "total = [0 for i in buckets]\n",
    "\n",
    "P11(buckets, correct, total)\n",
    "\n",
    "for i in range(len(buckets)):\n",
    "    accuracy = 0.0\n",
    "    if (total[i] > 0): accuracy = correct[i] / total[i]\n",
    "    print ('p(pred) <= %.13f    total = %3d    accuracy = %.3f' %(buckets[i], total[i], accuracy))"
   ]
  },
  {
   "cell_type": "markdown",
   "metadata": {},
   "source": [
    "**ANSWER**: The classifier is not perfectly calibrated. Posterior and accuracy are not always positively correlated; specifically looking at the accuracies above - they fluctuate instead of continually improving. Higher confidence does not always imply a higher accuracy, so it is difficult to use the posterior to infer something about the accuracy of the classifer. "
   ]
  },
  {
   "cell_type": "markdown",
   "metadata": {},
   "source": [
    "(12) EXTRA CREDIT\n",
    "\n",
    "Try designing extra features to see if you can improve the performance of Naive Bayes on the dev set. Here are a few ideas to get you started:\n",
    "- Try summing the pixel values in each row and each column.\n",
    "- Try counting the number of enclosed regions; 8 usually has 2 enclosed regions, 9 usually has 1, and 7 usually has 0.\n",
    "\n",
    "Make sure you comment your code well!"
   ]
  },
  {
   "cell_type": "code",
   "execution_count": null,
   "metadata": {},
   "outputs": [],
   "source": [
    "#def P12():\n",
    "\n",
    "### STUDENT START ###\n",
    "\n",
    "\n",
    "### STUDENT END ###\n",
    "\n",
    "#P12()"
   ]
  }
 ],
 "metadata": {
  "kernelspec": {
   "display_name": "Python 3",
   "language": "python",
   "name": "python3"
  },
  "language_info": {
   "codemirror_mode": {
    "name": "ipython",
    "version": 3
   },
   "file_extension": ".py",
   "mimetype": "text/x-python",
   "name": "python",
   "nbconvert_exporter": "python",
   "pygments_lexer": "ipython3",
   "version": "3.6.8"
  }
 },
 "nbformat": 4,
 "nbformat_minor": 1
}

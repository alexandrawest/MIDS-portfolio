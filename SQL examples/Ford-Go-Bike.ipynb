{
 "cells": [
  {
   "cell_type": "markdown",
   "metadata": {},
   "source": [
    "# Recommendations for Ford Go-Bike\n",
    "\n",
    "##### Author: Alexandra West\n",
    "\n",
    "#### Problem: \n",
    "How do we increase ridership for the Bay Area Bike Share?\n",
    "\n",
    "#### Organization: \n",
    "Ford Go-Bike\n",
    "\n",
    "#### Dataset: \n",
    "Bay Area Bikeshare status, Bay Area Bikeshare trips \n",
    "\n",
    "#### Tools: \n",
    "Google Cloud Platform (GCP) through BigQuery\n",
    "\n",
    "This project answers the following questions:\n",
    "\n",
    "- **What are the 5 most popular trips that you would call \"commuter trips\"?**\n",
    "  \n",
    "- **What are your recommendations for offers through the mobile app?**\n",
    "  \n",
    "Currently, the company has three options: \n",
    "\n",
    "1) a flat price for a single one-way trip,\n",
    "\n",
    "2) a day pass that allows unlimited 30-minute rides for 24 hours,\n",
    "\n",
    "3) and an annual membership. \n",
    "\n",
    "In the course of this report, I will evaluate the data, identify commuter trips, and recommend options for new offers through the mobile app in order to increase ridership.\n"
   ]
  },
  {
   "cell_type": "code",
   "execution_count": 53,
   "metadata": {},
   "outputs": [],
   "source": [
    "import pandas as pd\n",
    "import matplotlib.pyplot as plt\n",
    "%matplotlib inline"
   ]
  },
  {
   "cell_type": "markdown",
   "metadata": {},
   "source": [
    "## Data Exploration\n",
    "\n",
    "These initial questions are important to set the stage for more focused analysis to follow. I will not include the queries for these questions, as they were included in previous assignments.\n",
    "\n",
    "- What's the size of this dataset? (i.e., how many trips)\n",
    "\n",
    "There are **983,648** trips in this dataset.\n",
    "\n",
    "- What is the earliest start time and latest end time for a trip?\n",
    "\n",
    "Earliest start time (including date) is **2013-08-29 09:08:00**, latest end time (including date) is **2016-08-31 23:48:00**.\n",
    "\n",
    "- How many bikes are there?\n",
    "\n",
    "There are **700** bikes.\n",
    "\n",
    "- Longest and shortest trips?\n",
    "\n",
    "Shortest, **60 seconds**, longest, **172,704,000 seconds or about 200 days**. This may be a glitch in the system and could be removed.\n",
    "\n",
    "- Average length of trip?\n",
    "\n",
    "1018 seconds or almost **17 minutes**.\n",
    "\n",
    "- Are more trips round trips or one-way trips? \n",
    "\n",
    "One way trips: **951,601**, Round trips: **32,047**. Round trips make up such a small percentage of the total - barely over 3% of the total number of trips. It is clear that people view the bikes as a means of getting from place to place, and even if they do return to the same location, they will get another bike so as to not go over the 30 minute limit.\n",
    "\n",
    "These questions give us a basic picture of the dataset. There are clearly some outliers, but even with the longest trip included, the average length is still only 17 minutes. This is a nice segue into answering the first question - what are the five most popular trips that you would call commuter trips?"
   ]
  },
  {
   "cell_type": "markdown",
   "metadata": {},
   "source": [
    "## Commuter Trips\n",
    "\n",
    "Question: **What are the 5 most popular trips that you would call \"commuter trips\"?**\n",
    "\n",
    "Before answering this specific question, we must first define a few things. What is a _commuter_ trip? We can define it simply as a one-way trip, usually beginning a person's journey either to or from work, filling in one portion of the commute. For the purposes of this exercise, the commuting hours are defined to be from 7-10 am, and from 3-6 pm (for typical 8 hour workdays). These would not be round trips. Also, they are likely to be shorter - probably under 30 minutes. Also, they will probably originate at more residential stations in the morning, and in business districts in the afternoon. \n",
    "\n",
    "With those definitions out of the way, we can begin to narrow down the data to define the 5 most common commuter trips. These trips will be defined as start station, end station, with a time range.\n",
    "\n",
    "To do this, I will segment the data into morning commutes and afternoon commutes (trips between certain hours of the day) and analyze those specific segments.\n",
    "\n",
    "Earlier analysis of the commute times made it obvious that the vast majority of trips are under an hour, so I will define commuter trips to be under 45 minutes, or around 2700 seconds. I will limit the csv to 500000 rows, hoping to catch enough of a sample size to be significant for both morning and afternoon."
   ]
  },
  {
   "cell_type": "code",
   "execution_count": 90,
   "metadata": {},
   "outputs": [
    {
     "name": "stdout",
     "output_type": "stream",
     "text": [
      "Waiting on bqjob_r4fa4bbab3692eed8_00000168cb5eea8c_1 ... (3s) Current status: DONE   "
     ]
    }
   ],
   "source": [
    "# first creating a dataset with all morning commutes,\n",
    "# one way trips between 7 and 10 am\n",
    "# 45 min or less, overriding the csv max_rows limit\n",
    "\n",
    "! bq query --use_legacy_sql=FALSE --format=csv --max_rows=500000 'SELECT * FROM `bigquery-public-data.san_francisco.bikeshare_trips` WHERE EXTRACT (hour FROM start_date AT TIME ZONE \"UTC\") BETWEEN 7 AND 10 AND start_station_name <> end_station_name AND duration_sec < 2700' > morning_commutes_timed.csv"
   ]
  },
  {
   "cell_type": "code",
   "execution_count": 91,
   "metadata": {},
   "outputs": [
    {
     "data": {
      "text/html": [
       "<div>\n",
       "<style scoped>\n",
       "    .dataframe tbody tr th:only-of-type {\n",
       "        vertical-align: middle;\n",
       "    }\n",
       "\n",
       "    .dataframe tbody tr th {\n",
       "        vertical-align: top;\n",
       "    }\n",
       "\n",
       "    .dataframe thead th {\n",
       "        text-align: right;\n",
       "    }\n",
       "</style>\n",
       "<table border=\"1\" class=\"dataframe\">\n",
       "  <thead>\n",
       "    <tr style=\"text-align: right;\">\n",
       "      <th></th>\n",
       "      <th>trip_id</th>\n",
       "      <th>duration_sec</th>\n",
       "      <th>start_date</th>\n",
       "      <th>start_station_name</th>\n",
       "      <th>start_station_id</th>\n",
       "      <th>end_date</th>\n",
       "      <th>end_station_name</th>\n",
       "      <th>end_station_id</th>\n",
       "      <th>bike_number</th>\n",
       "      <th>zip_code</th>\n",
       "      <th>subscriber_type</th>\n",
       "    </tr>\n",
       "  </thead>\n",
       "  <tbody>\n",
       "    <tr>\n",
       "      <th>0</th>\n",
       "      <td>951818</td>\n",
       "      <td>206</td>\n",
       "      <td>2015-09-30 09:59:00</td>\n",
       "      <td>Redwood City Caltrain Station</td>\n",
       "      <td>22</td>\n",
       "      <td>2015-09-30 10:02:00</td>\n",
       "      <td>Mezes</td>\n",
       "      <td>83</td>\n",
       "      <td>175</td>\n",
       "      <td>94707</td>\n",
       "      <td>Subscriber</td>\n",
       "    </tr>\n",
       "    <tr>\n",
       "      <th>1</th>\n",
       "      <td>1068760</td>\n",
       "      <td>241</td>\n",
       "      <td>2016-01-23 09:43:00</td>\n",
       "      <td>Redwood City Caltrain Station</td>\n",
       "      <td>22</td>\n",
       "      <td>2016-01-23 09:47:00</td>\n",
       "      <td>Mezes</td>\n",
       "      <td>83</td>\n",
       "      <td>155</td>\n",
       "      <td>94070</td>\n",
       "      <td>Subscriber</td>\n",
       "    </tr>\n",
       "    <tr>\n",
       "      <th>2</th>\n",
       "      <td>948306</td>\n",
       "      <td>239</td>\n",
       "      <td>2015-09-28 09:20:00</td>\n",
       "      <td>Redwood City Caltrain Station</td>\n",
       "      <td>22</td>\n",
       "      <td>2015-09-28 09:24:00</td>\n",
       "      <td>Mezes</td>\n",
       "      <td>83</td>\n",
       "      <td>93</td>\n",
       "      <td>94707</td>\n",
       "      <td>Subscriber</td>\n",
       "    </tr>\n",
       "    <tr>\n",
       "      <th>3</th>\n",
       "      <td>949971</td>\n",
       "      <td>201</td>\n",
       "      <td>2015-09-29 09:22:00</td>\n",
       "      <td>Redwood City Caltrain Station</td>\n",
       "      <td>22</td>\n",
       "      <td>2015-09-29 09:26:00</td>\n",
       "      <td>Mezes</td>\n",
       "      <td>83</td>\n",
       "      <td>93</td>\n",
       "      <td>94707</td>\n",
       "      <td>Subscriber</td>\n",
       "    </tr>\n",
       "    <tr>\n",
       "      <th>4</th>\n",
       "      <td>942343</td>\n",
       "      <td>183</td>\n",
       "      <td>2015-09-23 09:29:00</td>\n",
       "      <td>Redwood City Caltrain Station</td>\n",
       "      <td>22</td>\n",
       "      <td>2015-09-23 09:32:00</td>\n",
       "      <td>Mezes</td>\n",
       "      <td>83</td>\n",
       "      <td>694</td>\n",
       "      <td>94707</td>\n",
       "      <td>Subscriber</td>\n",
       "    </tr>\n",
       "  </tbody>\n",
       "</table>\n",
       "</div>"
      ],
      "text/plain": [
       "   trip_id  duration_sec           start_date             start_station_name  \\\n",
       "0   951818           206  2015-09-30 09:59:00  Redwood City Caltrain Station   \n",
       "1  1068760           241  2016-01-23 09:43:00  Redwood City Caltrain Station   \n",
       "2   948306           239  2015-09-28 09:20:00  Redwood City Caltrain Station   \n",
       "3   949971           201  2015-09-29 09:22:00  Redwood City Caltrain Station   \n",
       "4   942343           183  2015-09-23 09:29:00  Redwood City Caltrain Station   \n",
       "\n",
       "   start_station_id             end_date end_station_name  end_station_id  \\\n",
       "0                22  2015-09-30 10:02:00            Mezes              83   \n",
       "1                22  2016-01-23 09:47:00            Mezes              83   \n",
       "2                22  2015-09-28 09:24:00            Mezes              83   \n",
       "3                22  2015-09-29 09:26:00            Mezes              83   \n",
       "4                22  2015-09-23 09:32:00            Mezes              83   \n",
       "\n",
       "   bike_number zip_code subscriber_type  \n",
       "0          175    94707      Subscriber  \n",
       "1          155    94070      Subscriber  \n",
       "2           93    94707      Subscriber  \n",
       "3           93    94707      Subscriber  \n",
       "4          694    94707      Subscriber  "
      ]
     },
     "execution_count": 91,
     "metadata": {},
     "output_type": "execute_result"
    }
   ],
   "source": [
    "# take a look at the morning commute rides\n",
    "# defined as rides between 7 and 10 am and less \n",
    "# than or equal to 45 min\n",
    "\n",
    "morning=pd.read_csv('morning_commutes_timed.csv')\n",
    "morning.head()"
   ]
  },
  {
   "cell_type": "code",
   "execution_count": 92,
   "metadata": {},
   "outputs": [
    {
     "data": {
      "text/plain": [
       "<matplotlib.axes._subplots.AxesSubplot at 0x7f4311555198>"
      ]
     },
     "execution_count": 92,
     "metadata": {},
     "output_type": "execute_result"
    },
    {
     "data": {
      "image/png": "[encoded data removed]",
      "text/plain": [
       "<Figure size 432x288 with 1 Axes>"
      ]
     },
     "metadata": {},
     "output_type": "display_data"
    }
   ],
   "source": [
    "# histogram of one way morning rides under 45 min\n",
    "\n",
    "morning.duration_sec.hist()"
   ]
  },
  {
   "cell_type": "markdown",
   "metadata": {},
   "source": [
    "It is obvious that most trips that begin between 7 and 10 am are less than 2500 seconds, or 41 minutes. Perhaps instead of limiting commuter rides to 30 minutes, we can stretch the length to 45 minutes. "
   ]
  },
  {
   "cell_type": "markdown",
   "metadata": {},
   "source": [
    "Looking at the data this close, it seems that there are a lot of trips that actually last less than 10 minutes. However, for commuter trips, we will keep the timing bracket at 45 minutes. We can apply the same logic to the afternoon rides."
   ]
  },
  {
   "cell_type": "code",
   "execution_count": 93,
   "metadata": {},
   "outputs": [
    {
     "name": "stdout",
     "output_type": "stream",
     "text": [
      "\r",
      "Waiting on bqjob_rf024f83f3cc84e0_00000168cb61c672_1 ... (0s) Current status: DONE   "
     ]
    }
   ],
   "source": [
    "# next, create a dataset that limits afternoon commute to \n",
    "# one way trips that are 45 minutes or less (or 2700 seconds)\n",
    "# between 3 and 6 pm, overriding the max_rows limit\n",
    "\n",
    "! bq query --use_legacy_sql=FALSE --format=csv --max_rows=500000 'SELECT * FROM `bigquery-public-data.san_francisco.bikeshare_trips` WHERE EXTRACT (hour FROM start_date) BETWEEN 15 AND 19 AND start_station_name <> end_station_name AND duration_sec <= 2700'> afternoon_commutes_timed.csv"
   ]
  },
  {
   "cell_type": "code",
   "execution_count": 98,
   "metadata": {},
   "outputs": [
    {
     "data": {
      "text/html": [
       "<div>\n",
       "<style scoped>\n",
       "    .dataframe tbody tr th:only-of-type {\n",
       "        vertical-align: middle;\n",
       "    }\n",
       "\n",
       "    .dataframe tbody tr th {\n",
       "        vertical-align: top;\n",
       "    }\n",
       "\n",
       "    .dataframe thead th {\n",
       "        text-align: right;\n",
       "    }\n",
       "</style>\n",
       "<table border=\"1\" class=\"dataframe\">\n",
       "  <thead>\n",
       "    <tr style=\"text-align: right;\">\n",
       "      <th></th>\n",
       "      <th>trip_id</th>\n",
       "      <th>duration_sec</th>\n",
       "      <th>start_date</th>\n",
       "      <th>start_station_name</th>\n",
       "      <th>start_station_id</th>\n",
       "      <th>end_date</th>\n",
       "      <th>end_station_name</th>\n",
       "      <th>end_station_id</th>\n",
       "      <th>bike_number</th>\n",
       "      <th>zip_code</th>\n",
       "      <th>subscriber_type</th>\n",
       "    </tr>\n",
       "  </thead>\n",
       "  <tbody>\n",
       "    <tr>\n",
       "      <th>0</th>\n",
       "      <td>957659</td>\n",
       "      <td>587</td>\n",
       "      <td>2015-10-05 16:41:00</td>\n",
       "      <td>Sequoia Hospital</td>\n",
       "      <td>21</td>\n",
       "      <td>2015-10-05 16:51:00</td>\n",
       "      <td>Mezes</td>\n",
       "      <td>83</td>\n",
       "      <td>650</td>\n",
       "      <td>94063</td>\n",
       "      <td>Subscriber</td>\n",
       "    </tr>\n",
       "    <tr>\n",
       "      <th>1</th>\n",
       "      <td>1029835</td>\n",
       "      <td>301</td>\n",
       "      <td>2015-12-04 17:32:00</td>\n",
       "      <td>Redwood City Caltrain Station</td>\n",
       "      <td>22</td>\n",
       "      <td>2015-12-04 17:37:00</td>\n",
       "      <td>Mezes</td>\n",
       "      <td>83</td>\n",
       "      <td>155</td>\n",
       "      <td>94063</td>\n",
       "      <td>Subscriber</td>\n",
       "    </tr>\n",
       "    <tr>\n",
       "      <th>2</th>\n",
       "      <td>987584</td>\n",
       "      <td>325</td>\n",
       "      <td>2015-10-27 17:32:00</td>\n",
       "      <td>Redwood City Caltrain Station</td>\n",
       "      <td>22</td>\n",
       "      <td>2015-10-27 17:38:00</td>\n",
       "      <td>Mezes</td>\n",
       "      <td>83</td>\n",
       "      <td>52</td>\n",
       "      <td>94063</td>\n",
       "      <td>Subscriber</td>\n",
       "    </tr>\n",
       "    <tr>\n",
       "      <th>3</th>\n",
       "      <td>1009081</td>\n",
       "      <td>385</td>\n",
       "      <td>2015-11-13 17:09:00</td>\n",
       "      <td>Redwood City Caltrain Station</td>\n",
       "      <td>22</td>\n",
       "      <td>2015-11-13 17:15:00</td>\n",
       "      <td>Mezes</td>\n",
       "      <td>83</td>\n",
       "      <td>199</td>\n",
       "      <td>94063</td>\n",
       "      <td>Subscriber</td>\n",
       "    </tr>\n",
       "    <tr>\n",
       "      <th>4</th>\n",
       "      <td>1213934</td>\n",
       "      <td>285</td>\n",
       "      <td>2016-05-24 18:07:00</td>\n",
       "      <td>Redwood City Caltrain Station</td>\n",
       "      <td>22</td>\n",
       "      <td>2016-05-24 18:12:00</td>\n",
       "      <td>Mezes</td>\n",
       "      <td>83</td>\n",
       "      <td>91</td>\n",
       "      <td>94063</td>\n",
       "      <td>Subscriber</td>\n",
       "    </tr>\n",
       "  </tbody>\n",
       "</table>\n",
       "</div>"
      ],
      "text/plain": [
       "   trip_id  duration_sec           start_date             start_station_name  \\\n",
       "0   957659           587  2015-10-05 16:41:00               Sequoia Hospital   \n",
       "1  1029835           301  2015-12-04 17:32:00  Redwood City Caltrain Station   \n",
       "2   987584           325  2015-10-27 17:32:00  Redwood City Caltrain Station   \n",
       "3  1009081           385  2015-11-13 17:09:00  Redwood City Caltrain Station   \n",
       "4  1213934           285  2016-05-24 18:07:00  Redwood City Caltrain Station   \n",
       "\n",
       "   start_station_id             end_date end_station_name  end_station_id  \\\n",
       "0                21  2015-10-05 16:51:00            Mezes              83   \n",
       "1                22  2015-12-04 17:37:00            Mezes              83   \n",
       "2                22  2015-10-27 17:38:00            Mezes              83   \n",
       "3                22  2015-11-13 17:15:00            Mezes              83   \n",
       "4                22  2016-05-24 18:12:00            Mezes              83   \n",
       "\n",
       "   bike_number zip_code subscriber_type  \n",
       "0          650    94063      Subscriber  \n",
       "1          155    94063      Subscriber  \n",
       "2           52    94063      Subscriber  \n",
       "3          199    94063      Subscriber  \n",
       "4           91    94063      Subscriber  "
      ]
     },
     "execution_count": 98,
     "metadata": {},
     "output_type": "execute_result"
    }
   ],
   "source": [
    "# take a look at the afternoon commute rides\n",
    "\n",
    "afternoon=pd.read_csv('afternoon_commutes_timed.csv')\n",
    "afternoon.head()"
   ]
  },
  {
   "cell_type": "code",
   "execution_count": 99,
   "metadata": {},
   "outputs": [
    {
     "data": {
      "text/plain": [
       "<matplotlib.axes._subplots.AxesSubplot at 0x7f431599a358>"
      ]
     },
     "execution_count": 99,
     "metadata": {},
     "output_type": "execute_result"
    },
    {
     "data": {
      "image/png": "[encoded data removed]",
      "text/plain": [
       "<Figure size 432x288 with 1 Axes>"
      ]
     },
     "metadata": {},
     "output_type": "display_data"
    }
   ],
   "source": [
    "# histogram of one way afternoon rides under 45 minutes\n",
    "\n",
    "afternoon.duration_sec.hist()"
   ]
  },
  {
   "cell_type": "markdown",
   "metadata": {},
   "source": [
    "There is even similar variation in the afternoon rides - many of which are much less than 500 seconds (about 8 minutes). "
   ]
  },
  {
   "cell_type": "markdown",
   "metadata": {},
   "source": [
    "Now, in order to find out the answer to the question **What are the 5 most popular trips that you would call \"commuter trips\"?**, I will create a new column on both the morning and afternoon csvs that combines the start station name with the end station name. Then, I will count the combinations and display the top results for both morning and afternoon."
   ]
  },
  {
   "cell_type": "code",
   "execution_count": 100,
   "metadata": {},
   "outputs": [
    {
     "data": {
      "text/html": [
       "<div>\n",
       "<style scoped>\n",
       "    .dataframe tbody tr th:only-of-type {\n",
       "        vertical-align: middle;\n",
       "    }\n",
       "\n",
       "    .dataframe tbody tr th {\n",
       "        vertical-align: top;\n",
       "    }\n",
       "\n",
       "    .dataframe thead th {\n",
       "        text-align: right;\n",
       "    }\n",
       "</style>\n",
       "<table border=\"1\" class=\"dataframe\">\n",
       "  <thead>\n",
       "    <tr style=\"text-align: right;\">\n",
       "      <th></th>\n",
       "      <th>trip_id</th>\n",
       "      <th>duration_sec</th>\n",
       "      <th>start_date</th>\n",
       "      <th>start_station_name</th>\n",
       "      <th>start_station_id</th>\n",
       "      <th>end_date</th>\n",
       "      <th>end_station_name</th>\n",
       "      <th>end_station_id</th>\n",
       "      <th>bike_number</th>\n",
       "      <th>zip_code</th>\n",
       "      <th>subscriber_type</th>\n",
       "      <th>start_end</th>\n",
       "    </tr>\n",
       "  </thead>\n",
       "  <tbody>\n",
       "    <tr>\n",
       "      <th>0</th>\n",
       "      <td>951818</td>\n",
       "      <td>206</td>\n",
       "      <td>2015-09-30 09:59:00</td>\n",
       "      <td>Redwood City Caltrain Station</td>\n",
       "      <td>22</td>\n",
       "      <td>2015-09-30 10:02:00</td>\n",
       "      <td>Mezes</td>\n",
       "      <td>83</td>\n",
       "      <td>175</td>\n",
       "      <td>94707</td>\n",
       "      <td>Subscriber</td>\n",
       "      <td>Redwood City Caltrain Station-Mezes</td>\n",
       "    </tr>\n",
       "    <tr>\n",
       "      <th>1</th>\n",
       "      <td>1068760</td>\n",
       "      <td>241</td>\n",
       "      <td>2016-01-23 09:43:00</td>\n",
       "      <td>Redwood City Caltrain Station</td>\n",
       "      <td>22</td>\n",
       "      <td>2016-01-23 09:47:00</td>\n",
       "      <td>Mezes</td>\n",
       "      <td>83</td>\n",
       "      <td>155</td>\n",
       "      <td>94070</td>\n",
       "      <td>Subscriber</td>\n",
       "      <td>Redwood City Caltrain Station-Mezes</td>\n",
       "    </tr>\n",
       "    <tr>\n",
       "      <th>2</th>\n",
       "      <td>948306</td>\n",
       "      <td>239</td>\n",
       "      <td>2015-09-28 09:20:00</td>\n",
       "      <td>Redwood City Caltrain Station</td>\n",
       "      <td>22</td>\n",
       "      <td>2015-09-28 09:24:00</td>\n",
       "      <td>Mezes</td>\n",
       "      <td>83</td>\n",
       "      <td>93</td>\n",
       "      <td>94707</td>\n",
       "      <td>Subscriber</td>\n",
       "      <td>Redwood City Caltrain Station-Mezes</td>\n",
       "    </tr>\n",
       "    <tr>\n",
       "      <th>3</th>\n",
       "      <td>949971</td>\n",
       "      <td>201</td>\n",
       "      <td>2015-09-29 09:22:00</td>\n",
       "      <td>Redwood City Caltrain Station</td>\n",
       "      <td>22</td>\n",
       "      <td>2015-09-29 09:26:00</td>\n",
       "      <td>Mezes</td>\n",
       "      <td>83</td>\n",
       "      <td>93</td>\n",
       "      <td>94707</td>\n",
       "      <td>Subscriber</td>\n",
       "      <td>Redwood City Caltrain Station-Mezes</td>\n",
       "    </tr>\n",
       "    <tr>\n",
       "      <th>4</th>\n",
       "      <td>942343</td>\n",
       "      <td>183</td>\n",
       "      <td>2015-09-23 09:29:00</td>\n",
       "      <td>Redwood City Caltrain Station</td>\n",
       "      <td>22</td>\n",
       "      <td>2015-09-23 09:32:00</td>\n",
       "      <td>Mezes</td>\n",
       "      <td>83</td>\n",
       "      <td>694</td>\n",
       "      <td>94707</td>\n",
       "      <td>Subscriber</td>\n",
       "      <td>Redwood City Caltrain Station-Mezes</td>\n",
       "    </tr>\n",
       "  </tbody>\n",
       "</table>\n",
       "</div>"
      ],
      "text/plain": [
       "   trip_id  duration_sec           start_date             start_station_name  \\\n",
       "0   951818           206  2015-09-30 09:59:00  Redwood City Caltrain Station   \n",
       "1  1068760           241  2016-01-23 09:43:00  Redwood City Caltrain Station   \n",
       "2   948306           239  2015-09-28 09:20:00  Redwood City Caltrain Station   \n",
       "3   949971           201  2015-09-29 09:22:00  Redwood City Caltrain Station   \n",
       "4   942343           183  2015-09-23 09:29:00  Redwood City Caltrain Station   \n",
       "\n",
       "   start_station_id             end_date end_station_name  end_station_id  \\\n",
       "0                22  2015-09-30 10:02:00            Mezes              83   \n",
       "1                22  2016-01-23 09:47:00            Mezes              83   \n",
       "2                22  2015-09-28 09:24:00            Mezes              83   \n",
       "3                22  2015-09-29 09:26:00            Mezes              83   \n",
       "4                22  2015-09-23 09:32:00            Mezes              83   \n",
       "\n",
       "   bike_number zip_code subscriber_type                            start_end  \n",
       "0          175    94707      Subscriber  Redwood City Caltrain Station-Mezes  \n",
       "1          155    94070      Subscriber  Redwood City Caltrain Station-Mezes  \n",
       "2           93    94707      Subscriber  Redwood City Caltrain Station-Mezes  \n",
       "3           93    94707      Subscriber  Redwood City Caltrain Station-Mezes  \n",
       "4          694    94707      Subscriber  Redwood City Caltrain Station-Mezes  "
      ]
     },
     "execution_count": 100,
     "metadata": {},
     "output_type": "execute_result"
    }
   ],
   "source": [
    "# create new column in the morning_timed dataframe \n",
    "# combining start and end stations\n",
    "\n",
    "morning[\"start_end\"] = morning[\"start_station_name\"] + \"-\" + morning[\"end_station_name\"]\n",
    "morning.head()"
   ]
  },
  {
   "cell_type": "code",
   "execution_count": 104,
   "metadata": {},
   "outputs": [
    {
     "data": {
      "text/plain": [
       "<matplotlib.axes._subplots.AxesSubplot at 0x7f4313d39b00>"
      ]
     },
     "execution_count": 104,
     "metadata": {},
     "output_type": "execute_result"
    },
    {
     "data": {
      "image/png": "[encoded data removed]",
      "text/plain": [
       "<Figure size 432x288 with 1 Axes>"
      ]
     },
     "metadata": {},
     "output_type": "display_data"
    }
   ],
   "source": [
    "# count the frequency of values in the combined column\n",
    "# to find the most common trips in the morning\n",
    "\n",
    "common_mtrips=morning['start_end'].value_counts()\n",
    "common_mtrips.head().plot.barh(title=\"Top 5 Morning Commuter Trips\")"
   ]
  },
  {
   "cell_type": "code",
   "execution_count": 105,
   "metadata": {},
   "outputs": [
    {
     "data": {
      "text/html": [
       "<div>\n",
       "<style scoped>\n",
       "    .dataframe tbody tr th:only-of-type {\n",
       "        vertical-align: middle;\n",
       "    }\n",
       "\n",
       "    .dataframe tbody tr th {\n",
       "        vertical-align: top;\n",
       "    }\n",
       "\n",
       "    .dataframe thead th {\n",
       "        text-align: right;\n",
       "    }\n",
       "</style>\n",
       "<table border=\"1\" class=\"dataframe\">\n",
       "  <thead>\n",
       "    <tr style=\"text-align: right;\">\n",
       "      <th></th>\n",
       "      <th>trip_id</th>\n",
       "      <th>duration_sec</th>\n",
       "      <th>start_date</th>\n",
       "      <th>start_station_name</th>\n",
       "      <th>start_station_id</th>\n",
       "      <th>end_date</th>\n",
       "      <th>end_station_name</th>\n",
       "      <th>end_station_id</th>\n",
       "      <th>bike_number</th>\n",
       "      <th>zip_code</th>\n",
       "      <th>subscriber_type</th>\n",
       "      <th>start_end</th>\n",
       "    </tr>\n",
       "  </thead>\n",
       "  <tbody>\n",
       "    <tr>\n",
       "      <th>0</th>\n",
       "      <td>957659</td>\n",
       "      <td>587</td>\n",
       "      <td>2015-10-05 16:41:00</td>\n",
       "      <td>Sequoia Hospital</td>\n",
       "      <td>21</td>\n",
       "      <td>2015-10-05 16:51:00</td>\n",
       "      <td>Mezes</td>\n",
       "      <td>83</td>\n",
       "      <td>650</td>\n",
       "      <td>94063</td>\n",
       "      <td>Subscriber</td>\n",
       "      <td>Sequoia Hospital-Mezes</td>\n",
       "    </tr>\n",
       "    <tr>\n",
       "      <th>1</th>\n",
       "      <td>1029835</td>\n",
       "      <td>301</td>\n",
       "      <td>2015-12-04 17:32:00</td>\n",
       "      <td>Redwood City Caltrain Station</td>\n",
       "      <td>22</td>\n",
       "      <td>2015-12-04 17:37:00</td>\n",
       "      <td>Mezes</td>\n",
       "      <td>83</td>\n",
       "      <td>155</td>\n",
       "      <td>94063</td>\n",
       "      <td>Subscriber</td>\n",
       "      <td>Redwood City Caltrain Station-Mezes</td>\n",
       "    </tr>\n",
       "    <tr>\n",
       "      <th>2</th>\n",
       "      <td>987584</td>\n",
       "      <td>325</td>\n",
       "      <td>2015-10-27 17:32:00</td>\n",
       "      <td>Redwood City Caltrain Station</td>\n",
       "      <td>22</td>\n",
       "      <td>2015-10-27 17:38:00</td>\n",
       "      <td>Mezes</td>\n",
       "      <td>83</td>\n",
       "      <td>52</td>\n",
       "      <td>94063</td>\n",
       "      <td>Subscriber</td>\n",
       "      <td>Redwood City Caltrain Station-Mezes</td>\n",
       "    </tr>\n",
       "    <tr>\n",
       "      <th>3</th>\n",
       "      <td>1009081</td>\n",
       "      <td>385</td>\n",
       "      <td>2015-11-13 17:09:00</td>\n",
       "      <td>Redwood City Caltrain Station</td>\n",
       "      <td>22</td>\n",
       "      <td>2015-11-13 17:15:00</td>\n",
       "      <td>Mezes</td>\n",
       "      <td>83</td>\n",
       "      <td>199</td>\n",
       "      <td>94063</td>\n",
       "      <td>Subscriber</td>\n",
       "      <td>Redwood City Caltrain Station-Mezes</td>\n",
       "    </tr>\n",
       "    <tr>\n",
       "      <th>4</th>\n",
       "      <td>1213934</td>\n",
       "      <td>285</td>\n",
       "      <td>2016-05-24 18:07:00</td>\n",
       "      <td>Redwood City Caltrain Station</td>\n",
       "      <td>22</td>\n",
       "      <td>2016-05-24 18:12:00</td>\n",
       "      <td>Mezes</td>\n",
       "      <td>83</td>\n",
       "      <td>91</td>\n",
       "      <td>94063</td>\n",
       "      <td>Subscriber</td>\n",
       "      <td>Redwood City Caltrain Station-Mezes</td>\n",
       "    </tr>\n",
       "  </tbody>\n",
       "</table>\n",
       "</div>"
      ],
      "text/plain": [
       "   trip_id  duration_sec           start_date             start_station_name  \\\n",
       "0   957659           587  2015-10-05 16:41:00               Sequoia Hospital   \n",
       "1  1029835           301  2015-12-04 17:32:00  Redwood City Caltrain Station   \n",
       "2   987584           325  2015-10-27 17:32:00  Redwood City Caltrain Station   \n",
       "3  1009081           385  2015-11-13 17:09:00  Redwood City Caltrain Station   \n",
       "4  1213934           285  2016-05-24 18:07:00  Redwood City Caltrain Station   \n",
       "\n",
       "   start_station_id             end_date end_station_name  end_station_id  \\\n",
       "0                21  2015-10-05 16:51:00            Mezes              83   \n",
       "1                22  2015-12-04 17:37:00            Mezes              83   \n",
       "2                22  2015-10-27 17:38:00            Mezes              83   \n",
       "3                22  2015-11-13 17:15:00            Mezes              83   \n",
       "4                22  2016-05-24 18:12:00            Mezes              83   \n",
       "\n",
       "   bike_number zip_code subscriber_type                            start_end  \n",
       "0          650    94063      Subscriber               Sequoia Hospital-Mezes  \n",
       "1          155    94063      Subscriber  Redwood City Caltrain Station-Mezes  \n",
       "2           52    94063      Subscriber  Redwood City Caltrain Station-Mezes  \n",
       "3          199    94063      Subscriber  Redwood City Caltrain Station-Mezes  \n",
       "4           91    94063      Subscriber  Redwood City Caltrain Station-Mezes  "
      ]
     },
     "execution_count": 105,
     "metadata": {},
     "output_type": "execute_result"
    }
   ],
   "source": [
    "# create new column in the afternoon_timed dataframe \n",
    "# combining start and end stations\n",
    "\n",
    "afternoon_timed[\"start_end\"] = afternoon_timed[\"start_station_name\"] + \"-\" + afternoon_timed[\"end_station_name\"]\n",
    "afternoon_timed.head()"
   ]
  },
  {
   "cell_type": "code",
   "execution_count": 108,
   "metadata": {},
   "outputs": [
    {
     "data": {
      "text/plain": [
       "<matplotlib.axes._subplots.AxesSubplot at 0x7f430b3d9a20>"
      ]
     },
     "execution_count": 108,
     "metadata": {},
     "output_type": "execute_result"
    },
    {
     "data": {
      "image/png": "[encoded data removed]",
      "text/plain": [
       "<Figure size 432x288 with 1 Axes>"
      ]
     },
     "metadata": {},
     "output_type": "display_data"
    }
   ],
   "source": [
    "# count the frequency of values in the combined column\n",
    "# to find the most common trips in the morning\n",
    "\n",
    "common_atrips=afternoon_timed['start_end'].value_counts()\n",
    "common_atrips.head().plot.barh(title=\"Top 5 Afternoon Commuter Trips\")"
   ]
  },
  {
   "cell_type": "markdown",
   "metadata": {},
   "source": [
    "##### The most popular morning and afternoon trip is Harry Bridges Plaza (Ferry Building) - 2nd at Townsend (and back in the afternoon).\n",
    "\n",
    "The other trips don't map exactly one to one, so people must be riding one way and going elsewhere. This is a strong argument for the bikes being commuter modes of transportation for downtown San Francisco especially, where parking is scarce and expensive, and Bart stations are relatively far apart.\n",
    "\n"
   ]
  },
  {
   "cell_type": "markdown",
   "metadata": {},
   "source": [
    "## Exploring existing users and demand\n",
    "\n",
    "In order to increase ridership, Ford Go-Bike must examine the behavior of its existing users: subscribers as well as one-off customers. \n",
    "\n",
    "Questions I will be asking here include: \n",
    "\n",
    "- Who are the existing riders? Subscribers or casual customers?\n",
    "\n",
    "- Who rides the longest (potentially translating to more revenue), subscribers or casual customers?\n",
    "\n",
    "- What are the most popular trips regardless of time of day?\n",
    "\n",
    "- Which stations have the most bikes available?\n"
   ]
  },
  {
   "cell_type": "code",
   "execution_count": 49,
   "metadata": {},
   "outputs": [
    {
     "name": "stdout",
     "output_type": "stream",
     "text": [
      "Waiting on bqjob_r705cb48dc9860b65_00000168cb04495a_1 ... (0s) Current status: DONE   "
     ]
    }
   ],
   "source": [
    "# create a new csv of the number of subscribers vs. \n",
    "# casual riders - csv only has two rows with label and count\n",
    "\n",
    "! bq query --use_legacy_sql=false --format=csv 'SELECT subscriber_type, COUNT(*) AS count FROM `bigquery-public-data.san_francisco.bikeshare_trips` GROUP BY subscriber_type' > subscribers.csv"
   ]
  },
  {
   "cell_type": "code",
   "execution_count": 57,
   "metadata": {},
   "outputs": [
    {
     "data": {
      "image/png": "[encoded data removed]",
      "text/plain": [
       "<Figure size 432x288 with 1 Axes>"
      ]
     },
     "metadata": {},
     "output_type": "display_data"
    }
   ],
   "source": [
    "# create dataframe from csv\n",
    "subscribers=pd.read_csv('subscribers.csv')\n",
    "\n",
    "# create pie chart of subscribers and casual riders\n",
    "labels = ['Casual', 'Subscriber']\n",
    "sizes = subscribers['count']\n",
    "colors = ['lightblue', 'gray']\n",
    "explode = (0.1, 0)  # explode 1st slice\n",
    "\n",
    "plt.pie(sizes, explode=explode, labels=labels, colors=colors,\n",
    "        autopct='%1.1f%%', shadow=True, startangle=140, )\n",
    "plt.title('Subscribed vs Unsubscribed Riders')\n",
    "plt.axis('equal')\n",
    "plt.show()"
   ]
  },
  {
   "cell_type": "markdown",
   "metadata": {},
   "source": [
    "The vast majority of current users are subscribers. What more do they want out of the program? How long do they typically ride the bikes? "
   ]
  },
  {
   "cell_type": "code",
   "execution_count": 62,
   "metadata": {},
   "outputs": [
    {
     "name": "stdout",
     "output_type": "stream",
     "text": [
      "\r",
      "Waiting on bqjob_r56a8376ce6e56968_00000168cb188c95_1 ... (0s) Current status: DONE   "
     ]
    }
   ],
   "source": [
    "# create a csv of the average duration of subscriber type\n",
    "# divide duration by 60 to translate to minutes\n",
    "\n",
    "! bq query --use_legacy_sql=false --format=csv 'SELECT subscriber_type, AVG(duration_sec)/60 AS average FROM `bigquery-public-data.san_francisco.bikeshare_trips` GROUP BY subscriber_type' > subduration.csv\n"
   ]
  },
  {
   "cell_type": "code",
   "execution_count": 61,
   "metadata": {},
   "outputs": [
    {
     "data": {
      "text/html": [
       "<div>\n",
       "<style scoped>\n",
       "    .dataframe tbody tr th:only-of-type {\n",
       "        vertical-align: middle;\n",
       "    }\n",
       "\n",
       "    .dataframe tbody tr th {\n",
       "        vertical-align: top;\n",
       "    }\n",
       "\n",
       "    .dataframe thead th {\n",
       "        text-align: right;\n",
       "    }\n",
       "</style>\n",
       "<table border=\"1\" class=\"dataframe\">\n",
       "  <thead>\n",
       "    <tr style=\"text-align: right;\">\n",
       "      <th></th>\n",
       "      <th>subscriber_type</th>\n",
       "      <th>average</th>\n",
       "    </tr>\n",
       "  </thead>\n",
       "  <tbody>\n",
       "    <tr>\n",
       "      <th>0</th>\n",
       "      <td>Customer</td>\n",
       "      <td>61.979753</td>\n",
       "    </tr>\n",
       "    <tr>\n",
       "      <th>1</th>\n",
       "      <td>Subscriber</td>\n",
       "      <td>9.712737</td>\n",
       "    </tr>\n",
       "  </tbody>\n",
       "</table>\n",
       "</div>"
      ],
      "text/plain": [
       "  subscriber_type    average\n",
       "0        Customer  61.979753\n",
       "1      Subscriber   9.712737"
      ]
     },
     "execution_count": 61,
     "metadata": {},
     "output_type": "execute_result"
    }
   ],
   "source": [
    "avgduration=pd.read_csv('subduration.csv')\n",
    "avgduration"
   ]
  },
  {
   "cell_type": "markdown",
   "metadata": {},
   "source": [
    "Casual customers tend to ride the bikes much longer on average than subscribers. They may get stung by the 30 minute limit on the day pass, and therefore may not be return customers as a result. Perhaps there is a solution in creating a specific offer for casual customers or tourists who will be riding the bikes for longer.\n",
    "\n",
    "Also, there may be specific routes that are more popular than the commuter routes, which should be given increased capacity at different times of day."
   ]
  },
  {
   "cell_type": "code",
   "execution_count": 63,
   "metadata": {},
   "outputs": [
    {
     "name": "stdout",
     "output_type": "stream",
     "text": [
      "Waiting on bqjob_r391d9223ee3d4863_00000168cb1e9993_1 ... (0s) Current status: DONE   "
     ]
    }
   ],
   "source": [
    "# most popular routes - regardless of time of day/ commuter status\n",
    "\n",
    "! bq query --use_legacy_sql=false --format=csv 'SELECT start_station_name, end_station_name, COUNT(*) AS Count FROM `bigquery-public-data.san_francisco.bikeshare_trips` GROUP BY start_station_name, end_station_name ORDER BY Count DESC LIMIT 10' > populartrips.csv\n"
   ]
  },
  {
   "cell_type": "code",
   "execution_count": 64,
   "metadata": {},
   "outputs": [
    {
     "data": {
      "text/html": [
       "<div>\n",
       "<style scoped>\n",
       "    .dataframe tbody tr th:only-of-type {\n",
       "        vertical-align: middle;\n",
       "    }\n",
       "\n",
       "    .dataframe tbody tr th {\n",
       "        vertical-align: top;\n",
       "    }\n",
       "\n",
       "    .dataframe thead th {\n",
       "        text-align: right;\n",
       "    }\n",
       "</style>\n",
       "<table border=\"1\" class=\"dataframe\">\n",
       "  <thead>\n",
       "    <tr style=\"text-align: right;\">\n",
       "      <th></th>\n",
       "      <th>start_station_name</th>\n",
       "      <th>end_station_name</th>\n",
       "      <th>Count</th>\n",
       "    </tr>\n",
       "  </thead>\n",
       "  <tbody>\n",
       "    <tr>\n",
       "      <th>0</th>\n",
       "      <td>Harry Bridges Plaza (Ferry Building)</td>\n",
       "      <td>Embarcadero at Sansome</td>\n",
       "      <td>9150</td>\n",
       "    </tr>\n",
       "    <tr>\n",
       "      <th>1</th>\n",
       "      <td>San Francisco Caltrain 2 (330 Townsend)</td>\n",
       "      <td>Townsend at 7th</td>\n",
       "      <td>8508</td>\n",
       "    </tr>\n",
       "    <tr>\n",
       "      <th>2</th>\n",
       "      <td>2nd at Townsend</td>\n",
       "      <td>Harry Bridges Plaza (Ferry Building)</td>\n",
       "      <td>7620</td>\n",
       "    </tr>\n",
       "    <tr>\n",
       "      <th>3</th>\n",
       "      <td>Harry Bridges Plaza (Ferry Building)</td>\n",
       "      <td>2nd at Townsend</td>\n",
       "      <td>6888</td>\n",
       "    </tr>\n",
       "    <tr>\n",
       "      <th>4</th>\n",
       "      <td>Embarcadero at Sansome</td>\n",
       "      <td>Steuart at Market</td>\n",
       "      <td>6874</td>\n",
       "    </tr>\n",
       "    <tr>\n",
       "      <th>5</th>\n",
       "      <td>Townsend at 7th</td>\n",
       "      <td>San Francisco Caltrain 2 (330 Townsend)</td>\n",
       "      <td>6836</td>\n",
       "    </tr>\n",
       "    <tr>\n",
       "      <th>6</th>\n",
       "      <td>Embarcadero at Folsom</td>\n",
       "      <td>San Francisco Caltrain (Townsend at 4th)</td>\n",
       "      <td>6351</td>\n",
       "    </tr>\n",
       "    <tr>\n",
       "      <th>7</th>\n",
       "      <td>San Francisco Caltrain (Townsend at 4th)</td>\n",
       "      <td>Harry Bridges Plaza (Ferry Building)</td>\n",
       "      <td>6215</td>\n",
       "    </tr>\n",
       "    <tr>\n",
       "      <th>8</th>\n",
       "      <td>Steuart at Market</td>\n",
       "      <td>2nd at Townsend</td>\n",
       "      <td>6039</td>\n",
       "    </tr>\n",
       "    <tr>\n",
       "      <th>9</th>\n",
       "      <td>Steuart at Market</td>\n",
       "      <td>San Francisco Caltrain (Townsend at 4th)</td>\n",
       "      <td>5959</td>\n",
       "    </tr>\n",
       "  </tbody>\n",
       "</table>\n",
       "</div>"
      ],
      "text/plain": [
       "                         start_station_name  \\\n",
       "0      Harry Bridges Plaza (Ferry Building)   \n",
       "1   San Francisco Caltrain 2 (330 Townsend)   \n",
       "2                           2nd at Townsend   \n",
       "3      Harry Bridges Plaza (Ferry Building)   \n",
       "4                    Embarcadero at Sansome   \n",
       "5                           Townsend at 7th   \n",
       "6                     Embarcadero at Folsom   \n",
       "7  San Francisco Caltrain (Townsend at 4th)   \n",
       "8                         Steuart at Market   \n",
       "9                         Steuart at Market   \n",
       "\n",
       "                           end_station_name  Count  \n",
       "0                    Embarcadero at Sansome   9150  \n",
       "1                           Townsend at 7th   8508  \n",
       "2      Harry Bridges Plaza (Ferry Building)   7620  \n",
       "3                           2nd at Townsend   6888  \n",
       "4                         Steuart at Market   6874  \n",
       "5   San Francisco Caltrain 2 (330 Townsend)   6836  \n",
       "6  San Francisco Caltrain (Townsend at 4th)   6351  \n",
       "7      Harry Bridges Plaza (Ferry Building)   6215  \n",
       "8                           2nd at Townsend   6039  \n",
       "9  San Francisco Caltrain (Townsend at 4th)   5959  "
      ]
     },
     "execution_count": 64,
     "metadata": {},
     "output_type": "execute_result"
    }
   ],
   "source": [
    "populartrips=pd.read_csv('populartrips.csv')\n",
    "populartrips"
   ]
  },
  {
   "cell_type": "markdown",
   "metadata": {},
   "source": [
    "It is clear that all the stations in downtown San Francisco are the most popular for both commuters and casual customers. These stations should be optimized for both uses, and given extra capacity throughout the day."
   ]
  },
  {
   "cell_type": "code",
   "execution_count": 114,
   "metadata": {},
   "outputs": [
    {
     "name": "stdout",
     "output_type": "stream",
     "text": [
      "Waiting on bqjob_rdf6926e4afcfd8d_00000168cb75d06b_1 ... (1s) Current status: DONE   "
     ]
    }
   ],
   "source": [
    "# which stations have the most bikes available, regardless of time\n",
    "\n",
    "! bq query --use_legacy_sql=false --format=csv 'SELECT COUNT(bikes_available), station_id, COUNT(*) FROM `bigquery-public-data.san_francisco.bikeshare_status` GROUP BY station_id ORDER BY COUNT(bikes_available) DESC' > stationsmostbikes.csv"
   ]
  },
  {
   "cell_type": "code",
   "execution_count": 115,
   "metadata": {},
   "outputs": [
    {
     "data": {
      "text/html": [
       "<div>\n",
       "<style scoped>\n",
       "    .dataframe tbody tr th:only-of-type {\n",
       "        vertical-align: middle;\n",
       "    }\n",
       "\n",
       "    .dataframe tbody tr th {\n",
       "        vertical-align: top;\n",
       "    }\n",
       "\n",
       "    .dataframe thead th {\n",
       "        text-align: right;\n",
       "    }\n",
       "</style>\n",
       "<table border=\"1\" class=\"dataframe\">\n",
       "  <thead>\n",
       "    <tr style=\"text-align: right;\">\n",
       "      <th></th>\n",
       "      <th>f0_</th>\n",
       "      <th>station_id</th>\n",
       "      <th>f1_</th>\n",
       "    </tr>\n",
       "  </thead>\n",
       "  <tbody>\n",
       "    <tr>\n",
       "      <th>0</th>\n",
       "      <td>1559598</td>\n",
       "      <td>5</td>\n",
       "      <td>1559598</td>\n",
       "    </tr>\n",
       "    <tr>\n",
       "      <th>1</th>\n",
       "      <td>1559598</td>\n",
       "      <td>6</td>\n",
       "      <td>1559598</td>\n",
       "    </tr>\n",
       "    <tr>\n",
       "      <th>2</th>\n",
       "      <td>1559598</td>\n",
       "      <td>7</td>\n",
       "      <td>1559598</td>\n",
       "    </tr>\n",
       "    <tr>\n",
       "      <th>3</th>\n",
       "      <td>1559597</td>\n",
       "      <td>36</td>\n",
       "      <td>1559597</td>\n",
       "    </tr>\n",
       "    <tr>\n",
       "      <th>4</th>\n",
       "      <td>1559597</td>\n",
       "      <td>57</td>\n",
       "      <td>1559597</td>\n",
       "    </tr>\n",
       "  </tbody>\n",
       "</table>\n",
       "</div>"
      ],
      "text/plain": [
       "       f0_  station_id      f1_\n",
       "0  1559598           5  1559598\n",
       "1  1559598           6  1559598\n",
       "2  1559598           7  1559598\n",
       "3  1559597          36  1559597\n",
       "4  1559597          57  1559597"
      ]
     },
     "execution_count": 115,
     "metadata": {},
     "output_type": "execute_result"
    }
   ],
   "source": [
    "mostbikes=pd.read_csv('stationsmostbikes.csv')\n",
    "mostbikes.head()"
   ]
  },
  {
   "cell_type": "markdown",
   "metadata": {},
   "source": [
    "These five stations have less demand than the others, they could potentially diminish capacity and give more to the other stations - or Ford Go-Bike could offer particular deals to visit these stations."
   ]
  },
  {
   "cell_type": "markdown",
   "metadata": {},
   "source": [
    "## Recommendations for the mobile app\n",
    "\n",
    "1. Offer more flexible subscriptions - a year is too long for an introduction: offer weekly, monthly, and yearly rates (yearly being the best value)\n",
    "\n",
    "2. To entice casual riders, change the nature of the daily pass. Unlimited 30 minute rides in 24 hours is an arbitrary cutoff. A flat fee for as many rides as you can take in one day would work well. The rider can stay on the same bike all day, touring the city, or stop at multiple stations throughout the day.\n",
    "\n",
    "3. Increase capacity at the most popular stations\n",
    "\n",
    "4. Add a 'number of bike' status for each station to the mobile app. Consumers are more willing to subscribe if they have security in knowing where and when bikes are available. \n",
    "\n",
    "5. Perhaps give a customer the options of 'reserving' a bike for up to 15 minutes (no more). This would allow someone to see a bike, know they are within a 15 minute walk, and be secure in their ability to claim it once they get there. Also, 15 minutes is a short enough time period that bikes would not sit idle too long."
   ]
  }
 ],
 "metadata": {
  "kernelspec": {
   "display_name": "Python 3",
   "language": "python",
   "name": "python3"
  },
  "language_info": {
   "codemirror_mode": {
    "name": "ipython",
    "version": 3
   },
   "file_extension": ".py",
   "mimetype": "text/x-python",
   "name": "python",
   "nbconvert_exporter": "python",
   "pygments_lexer": "ipython3",
   "version": "3.5.2"
  }
 },
 "nbformat": 4,
 "nbformat_minor": 2
}
